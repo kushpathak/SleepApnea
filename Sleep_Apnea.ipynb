{
  "nbformat": 4,
  "nbformat_minor": 0,
  "metadata": {
    "colab": {
      "name": "Sleep_Apnea.ipynb",
      "provenance": [],
      "collapsed_sections": []
    },
    "kernelspec": {
      "name": "python3",
      "display_name": "Python 3"
    },
    "accelerator": "GPU"
  },
  "cells": [
    {
      "cell_type": "code",
      "metadata": {
        "id": "KKmoTU0AKl7_"
      },
      "source": [
        "%tensorflow_version 2.x"
      ],
      "execution_count": null,
      "outputs": []
    },
    {
      "cell_type": "code",
      "metadata": {
        "id": "zSguIKBv7X19"
      },
      "source": [
        "import numpy as np\n",
        "import matplotlib.pyplot as plt\n",
        "from tensorflow import keras\n",
        "from google.colab import files\n",
        "from google.colab import drive\n",
        "from sklearn.model_selection import train_test_split as tts\n",
        "from sklearn.ensemble import RandomForestClassifier as RFC\n",
        "from sklearn.metrics import accuracy_score\n",
        "from keras.models import Sequential\n",
        "from keras.layers import Dense, Flatten, Dropout\n",
        "from keras.layers.convolutional import Conv1D, MaxPooling1D, AveragePooling1D\n",
        "from keras.utils import to_categorical\n",
        "from sklearn.metrics import plot_confusion_matrix\n",
        "from scipy.stats import levy_l, skewnorm, skew\n",
        "import csv\n",
        "import pandas as pd\n",
        "from google.colab import files\n",
        "from keras.models import load_model\n",
        "from sklearn.metrics import confusion_matrix\n",
        "from keras.regularizers import l2\n",
        "import tensorflow as tf\n",
        "from tensorflow import lite\n",
        "from sklearn.model_selection import cross_val_score\n",
        "from sklearn.preprocessing import LabelEncoder\n",
        "from sklearn.model_selection import StratifiedKFold\n",
        "from keras.wrappers.scikit_learn import KerasClassifier"
      ],
      "execution_count": null,
      "outputs": []
    },
    {
      "cell_type": "code",
      "metadata": {
        "id": "FR5BnrLKpB2z"
      },
      "source": [
        ""
      ],
      "execution_count": null,
      "outputs": []
    },
    {
      "cell_type": "code",
      "metadata": {
        "id": "avxA21bQ7q8-"
      },
      "source": [
        "mod1 = load_model('/content/MD.h5')"
      ],
      "execution_count": null,
      "outputs": []
    },
    {
      "cell_type": "code",
      "metadata": {
        "colab": {
          "base_uri": "https://localhost:8080/"
        },
        "id": "kgZcdphCKuAU",
        "outputId": "dfd38692-b1c7-479a-e186-567995a1d68c"
      },
      "source": [
        "converter=lite.TFLiteConverter.from_keras_model(Model)\n",
        "tfmodel=converter.convert()\n",
        "open('MOD.tflite','wb').write(tfmodel)"
      ],
      "execution_count": null,
      "outputs": [
        {
          "output_type": "stream",
          "text": [
            "INFO:tensorflow:Assets written to: /tmp/tmpmr2j6ni5/assets\n"
          ],
          "name": "stdout"
        },
        {
          "output_type": "execute_result",
          "data": {
            "text/plain": [
              "22612"
            ]
          },
          "metadata": {
            "tags": []
          },
          "execution_count": 60
        }
      ]
    },
    {
      "cell_type": "code",
      "metadata": {
        "colab": {
          "resources": {
            "http://localhost:8080/nbextensions/google.colab/files.js": {
              "data": "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",
              "ok": true,
              "headers": [
                [
                  "content-type",
                  "application/javascript"
                ]
              ],
              "status": 200,
              "status_text": ""
            }
          },
          "base_uri": "https://localhost:8080/",
          "height": 72
        },
        "id": "1zjSbY_y0arD",
        "outputId": "8f267873-b01a-4d7b-c85b-ca50cd4306d2"
      },
      "source": [
        "uploaded = files.upload()"
      ],
      "execution_count": null,
      "outputs": [
        {
          "output_type": "display_data",
          "data": {
            "text/html": [
              "\n",
              "     <input type=\"file\" id=\"files-8f5e0ab2-a5d0-40da-b310-b0dc3b165f00\" name=\"files[]\" multiple disabled\n",
              "        style=\"border:none\" />\n",
              "     <output id=\"result-8f5e0ab2-a5d0-40da-b310-b0dc3b165f00\">\n",
              "      Upload widget is only available when the cell has been executed in the\n",
              "      current browser session. Please rerun this cell to enable.\n",
              "      </output>\n",
              "      <script src=\"/nbextensions/google.colab/files.js\"></script> "
            ],
            "text/plain": [
              "<IPython.core.display.HTML object>"
            ]
          },
          "metadata": {
            "tags": []
          }
        },
        {
          "output_type": "stream",
          "text": [
            "Saving ProjectData.csv to ProjectData.csv\n"
          ],
          "name": "stdout"
        }
      ]
    },
    {
      "cell_type": "code",
      "metadata": {
        "id": "kYjm2yOhAVWN"
      },
      "source": [
        "data = pd.read_csv('/content/ProjectData.csv')"
      ],
      "execution_count": null,
      "outputs": []
    },
    {
      "cell_type": "code",
      "metadata": {
        "id": "EWVlhoXuApOi"
      },
      "source": [
        "data = data.values"
      ],
      "execution_count": null,
      "outputs": []
    },
    {
      "cell_type": "code",
      "metadata": {
        "id": "enTKvT9zzu9W"
      },
      "source": [
        "np.random.shuffle(data)"
      ],
      "execution_count": null,
      "outputs": []
    },
    {
      "cell_type": "code",
      "metadata": {
        "id": "XJBY9OdDAs5u"
      },
      "source": [
        "X = data[:, :7]\n",
        "Y = data[:, -1]"
      ],
      "execution_count": null,
      "outputs": []
    },
    {
      "cell_type": "code",
      "metadata": {
        "colab": {
          "base_uri": "https://localhost:8080/"
        },
        "id": "mCWyJ4rRDGgV",
        "outputId": "8569e0eb-6c65-4e2b-ba05-5be698e616f6"
      },
      "source": [
        "X.shape"
      ],
      "execution_count": null,
      "outputs": [
        {
          "output_type": "execute_result",
          "data": {
            "text/plain": [
              "(644, 7)"
            ]
          },
          "metadata": {
            "tags": []
          },
          "execution_count": 9
        }
      ]
    },
    {
      "cell_type": "code",
      "metadata": {
        "id": "CR5N4J65Cz7s"
      },
      "source": [
        "X = np.array(X).reshape(644,7,)\n",
        "Y = np.array(Y).reshape(-1,)"
      ],
      "execution_count": null,
      "outputs": []
    },
    {
      "cell_type": "code",
      "metadata": {
        "id": "6CpdLJrqCLCd"
      },
      "source": [
        "X_train, X_test, Y_train, Y_test = tts(X, Y, test_size = 0.10)"
      ],
      "execution_count": null,
      "outputs": []
    },
    {
      "cell_type": "code",
      "metadata": {
        "colab": {
          "base_uri": "https://localhost:8080/"
        },
        "id": "_Rm4wSD0HOsa",
        "outputId": "52bc0199-5ce0-4cb2-c2b4-fbef421019f2"
      },
      "source": [
        "X_train.shape"
      ],
      "execution_count": null,
      "outputs": [
        {
          "output_type": "execute_result",
          "data": {
            "text/plain": [
              "(579, 7)"
            ]
          },
          "metadata": {
            "tags": []
          },
          "execution_count": 12
        }
      ]
    },
    {
      "cell_type": "code",
      "metadata": {
        "id": "FrF1pXxhIClA"
      },
      "source": [
        "Model = Sequential()\n",
        "Model.add(Dense(32, 'relu', input_shape=(7,)))\n",
        "Model.add(Dense(64, 'relu'))\n",
        "Model.add(Dense(32, 'relu'))\n",
        "Model.add(Dense(16, 'relu'))\n",
        "Model.add(Dense(1, 'sigmoid'))\n",
        "Model.compile(loss='binary_crossentropy', optimizer = 'adam', metrics=['accuracy'])"
      ],
      "execution_count": null,
      "outputs": []
    },
    {
      "cell_type": "code",
      "metadata": {
        "colab": {
          "base_uri": "https://localhost:8080/"
        },
        "id": "tOYP8iquYfpD",
        "outputId": "a84dcac7-3120-429e-a241-2b5a757495ca"
      },
      "source": [
        "Model.fit(X, Y, batch_size=16, epochs=20, validation_split=0.2)"
      ],
      "execution_count": null,
      "outputs": [
        {
          "output_type": "stream",
          "text": [
            "Epoch 1/20\n",
            "33/33 [==============================] - 3s 9ms/step - loss: 0.8391 - accuracy: 0.4963 - val_loss: 0.6254 - val_accuracy: 0.5271\n",
            "Epoch 2/20\n",
            "33/33 [==============================] - 0s 3ms/step - loss: 0.6336 - accuracy: 0.6234 - val_loss: 0.6159 - val_accuracy: 0.5116\n",
            "Epoch 3/20\n",
            "33/33 [==============================] - 0s 3ms/step - loss: 0.5871 - accuracy: 0.6394 - val_loss: 0.6264 - val_accuracy: 0.4961\n",
            "Epoch 4/20\n",
            "33/33 [==============================] - 0s 3ms/step - loss: 0.5116 - accuracy: 0.8066 - val_loss: 0.5333 - val_accuracy: 0.5271\n",
            "Epoch 5/20\n",
            "33/33 [==============================] - 0s 4ms/step - loss: 0.4690 - accuracy: 0.7780 - val_loss: 0.3946 - val_accuracy: 0.9147\n",
            "Epoch 6/20\n",
            "33/33 [==============================] - 0s 3ms/step - loss: 0.3821 - accuracy: 0.9525 - val_loss: 0.3494 - val_accuracy: 0.8605\n",
            "Epoch 7/20\n",
            "33/33 [==============================] - 0s 3ms/step - loss: 0.3396 - accuracy: 0.8766 - val_loss: 0.3231 - val_accuracy: 0.8372\n",
            "Epoch 8/20\n",
            "33/33 [==============================] - 0s 3ms/step - loss: 0.2660 - accuracy: 0.9574 - val_loss: 0.2353 - val_accuracy: 0.9457\n",
            "Epoch 9/20\n",
            "33/33 [==============================] - 0s 3ms/step - loss: 0.2318 - accuracy: 0.9564 - val_loss: 0.2394 - val_accuracy: 0.8837\n",
            "Epoch 10/20\n",
            "33/33 [==============================] - 0s 3ms/step - loss: 0.2073 - accuracy: 0.9315 - val_loss: 0.1844 - val_accuracy: 0.9380\n",
            "Epoch 11/20\n",
            "33/33 [==============================] - 0s 3ms/step - loss: 0.1563 - accuracy: 0.9647 - val_loss: 0.2446 - val_accuracy: 0.8605\n",
            "Epoch 12/20\n",
            "33/33 [==============================] - 0s 3ms/step - loss: 0.1817 - accuracy: 0.9454 - val_loss: 0.1317 - val_accuracy: 0.9535\n",
            "Epoch 13/20\n",
            "33/33 [==============================] - 0s 3ms/step - loss: 0.1069 - accuracy: 0.9826 - val_loss: 0.2238 - val_accuracy: 0.9535\n",
            "Epoch 14/20\n",
            "33/33 [==============================] - 0s 3ms/step - loss: 0.1844 - accuracy: 0.9242 - val_loss: 0.2297 - val_accuracy: 0.8837\n",
            "Epoch 15/20\n",
            "33/33 [==============================] - 0s 3ms/step - loss: 0.1353 - accuracy: 0.9601 - val_loss: 0.1006 - val_accuracy: 0.9922\n",
            "Epoch 16/20\n",
            "33/33 [==============================] - 0s 3ms/step - loss: 0.0850 - accuracy: 0.9839 - val_loss: 0.1022 - val_accuracy: 0.9535\n",
            "Epoch 17/20\n",
            "33/33 [==============================] - 0s 3ms/step - loss: 0.0662 - accuracy: 0.9829 - val_loss: 0.0742 - val_accuracy: 0.9922\n",
            "Epoch 18/20\n",
            "33/33 [==============================] - 0s 4ms/step - loss: 0.0641 - accuracy: 0.9888 - val_loss: 0.0757 - val_accuracy: 0.9845\n",
            "Epoch 19/20\n",
            "33/33 [==============================] - 0s 3ms/step - loss: 0.1063 - accuracy: 0.9560 - val_loss: 0.1041 - val_accuracy: 0.9535\n",
            "Epoch 20/20\n",
            "33/33 [==============================] - 0s 3ms/step - loss: 0.0639 - accuracy: 0.9845 - val_loss: 0.0619 - val_accuracy: 0.9845\n"
          ],
          "name": "stdout"
        },
        {
          "output_type": "execute_result",
          "data": {
            "text/plain": [
              "<tensorflow.python.keras.callbacks.History at 0x7fa8347dec50>"
            ]
          },
          "metadata": {
            "tags": []
          },
          "execution_count": 14
        }
      ]
    },
    {
      "cell_type": "code",
      "metadata": {
        "colab": {
          "base_uri": "https://localhost:8080/"
        },
        "id": "iN_M-JRfDZpz",
        "outputId": "45b07d78-6813-4755-dcd4-e7e524a8089b"
      },
      "source": [
        "estimator = KerasClassifier(Model, epochs=20, batch_size=5, verbose=0)\n",
        "kfold = StratifiedKFold(n_splits=10, shuffle=True)\n",
        "results = cross_val_score(estimator, X, Y, cv=kfold)\n",
        "print(results)\n",
        "print(\"Baseline: %.2f%% (%.2f%%)\" % (results.mean()*100, results.std()*100))"
      ],
      "execution_count": null,
      "outputs": [
        {
          "output_type": "stream",
          "text": [
            "[nan nan nan nan nan nan nan nan nan nan]\n",
            "Baseline: nan% (nan%)\n"
          ],
          "name": "stdout"
        },
        {
          "output_type": "stream",
          "text": [
            "/usr/local/lib/python3.7/dist-packages/sklearn/model_selection/_validation.py:536: FitFailedWarning: Estimator fit failed. The score on this train-test partition for these parameters will be set to nan. Details: \n",
            "ValueError: The first argument to `Layer.call` must always be passed.\n",
            "\n",
            "  FitFailedWarning)\n"
          ],
          "name": "stderr"
        }
      ]
    },
    {
      "cell_type": "code",
      "metadata": {
        "colab": {
          "base_uri": "https://localhost:8080/"
        },
        "id": "ZYk4ZJuiZoNZ",
        "outputId": "60004fdf-466d-4f39-f814-b033edf0efd2"
      },
      "source": [
        "Model.summary()"
      ],
      "execution_count": null,
      "outputs": [
        {
          "output_type": "stream",
          "text": [
            "Model: \"sequential\"\n",
            "_________________________________________________________________\n",
            "Layer (type)                 Output Shape              Param #   \n",
            "=================================================================\n",
            "dense (Dense)                (None, 32)                256       \n",
            "_________________________________________________________________\n",
            "dense_1 (Dense)              (None, 64)                2112      \n",
            "_________________________________________________________________\n",
            "dense_2 (Dense)              (None, 32)                2080      \n",
            "_________________________________________________________________\n",
            "dense_3 (Dense)              (None, 16)                528       \n",
            "_________________________________________________________________\n",
            "dense_4 (Dense)              (None, 1)                 17        \n",
            "=================================================================\n",
            "Total params: 4,993\n",
            "Trainable params: 4,993\n",
            "Non-trainable params: 0\n",
            "_________________________________________________________________\n"
          ],
          "name": "stdout"
        }
      ]
    },
    {
      "cell_type": "code",
      "metadata": {
        "id": "eKLInf87qDoG"
      },
      "source": [
        "hist=Model.history"
      ],
      "execution_count": null,
      "outputs": []
    },
    {
      "cell_type": "code",
      "metadata": {
        "colab": {
          "base_uri": "https://localhost:8080/",
          "height": 295
        },
        "id": "3cRCvCjrqOVf",
        "outputId": "d79f1bf1-d375-409c-9e15-d488c18f0bcf"
      },
      "source": [
        "plt.plot(hist.history['accuracy'])\n",
        "plt.plot(hist.history['val_accuracy'])\n",
        "plt.title('model accuracy')\n",
        "plt.ylabel('accuracy')\n",
        "plt.xlabel('epoch')\n",
        "plt.legend(['train', 'val'], loc='upper left')\n",
        "plt.show()"
      ],
      "execution_count": null,
      "outputs": [
        {
          "output_type": "display_data",
          "data": {
            "image/png": "[encoded data removed]",
            "text/plain": [
              "<Figure size 432x288 with 1 Axes>"
            ]
          },
          "metadata": {
            "tags": [],
            "needs_background": "light"
          }
        }
      ]
    },
    {
      "cell_type": "code",
      "metadata": {
        "colab": {
          "base_uri": "https://localhost:8080/",
          "height": 295
        },
        "id": "K1a3Rrq8rTQw",
        "outputId": "97c1f096-c0be-4b8f-eae2-df53d9ca459f"
      },
      "source": [
        "plt.plot(hist.history['loss'])\n",
        "plt.plot(hist.history['val_loss'])\n",
        "plt.title('model accuracy')\n",
        "plt.ylabel('loss')\n",
        "plt.xlabel('epoch')\n",
        "plt.legend(['train', 'val'], loc='upper left')\n",
        "plt.show()"
      ],
      "execution_count": null,
      "outputs": [
        {
          "output_type": "display_data",
          "data": {
            "image/png": "[encoded data removed]",
            "text/plain": [
              "<Figure size 432x288 with 1 Axes>"
            ]
          },
          "metadata": {
            "tags": [],
            "needs_background": "light"
          }
        }
      ]
    },
    {
      "cell_type": "code",
      "metadata": {
        "id": "4pLp77rL-4na"
      },
      "source": [
        "plot_confusion_matrix(Model, X, Y)"
      ],
      "execution_count": null,
      "outputs": []
    },
    {
      "cell_type": "code",
      "metadata": {
        "id": "cKvWe11vbwQ0"
      },
      "source": [
        "r=Model.predict_classes(X)\n",
        "r"
      ],
      "execution_count": null,
      "outputs": []
    },
    {
      "cell_type": "code",
      "metadata": {
        "colab": {
          "base_uri": "https://localhost:8080/"
        },
        "id": "Ree1dBSKtvKF",
        "outputId": "f5e02d69-c0a2-488b-dc6b-2bbfabaac79b"
      },
      "source": [
        "alpha0=0\n",
        "alpha1=0\n",
        "beta0=0\n",
        "beta1=0\n",
        "for i in range(0,644):\n",
        "  if r[i] == Y[i] and r[i][0] == 0:\n",
        "    alpha0 +=1\n",
        "  if r[i] == Y[i] and r[i][0] == 1:\n",
        "    alpha1 +=1\n",
        "  if r[i] != Y[i] and r[i][0] == 0:\n",
        "    beta0 +=1\n",
        "  if r[i] != Y[i] and r[i][0] == 1:\n",
        "    beta1 +=1\n",
        "print(alpha0, alpha1, beta0, beta1)"
      ],
      "execution_count": null,
      "outputs": [
        {
          "output_type": "stream",
          "text": [
            "309 328 6 1\n"
          ],
          "name": "stdout"
        }
      ]
    },
    {
      "cell_type": "code",
      "metadata": {
        "id": "HSUaAN6Xtc3_"
      },
      "source": [
        ""
      ],
      "execution_count": null,
      "outputs": []
    },
    {
      "cell_type": "code",
      "metadata": {
        "id": "aA8-4gjEko4u"
      },
      "source": [
        "Model.save('MD.h5')"
      ],
      "execution_count": null,
      "outputs": []
    },
    {
      "cell_type": "code",
      "metadata": {
        "colab": {
          "base_uri": "https://localhost:8080/"
        },
        "id": "Mx2GSV74ZRqw",
        "outputId": "3b089ca4-5a6a-4e47-94f8-1ebc9db00f95"
      },
      "source": [
        "Model.predict(X[1].reshape(1, 7))"
      ],
      "execution_count": null,
      "outputs": [
        {
          "output_type": "execute_result",
          "data": {
            "text/plain": [
              "array([[0.9999943]], dtype=float32)"
            ]
          },
          "metadata": {
            "tags": []
          },
          "execution_count": 58
        }
      ]
    },
    {
      "cell_type": "code",
      "metadata": {
        "id": "qsHLJ_vQEJhT"
      },
      "source": [
        "_model = Sequential()\n",
        "_model.add(Conv1D(filters=32, kernel_size = 1, strides=1, activation='relu', input_shape=(6, 1)))\n",
        "_model.add(Conv1D(filters=64, kernel_size = 1, activation='relu'))\n",
        "_model.add(AveragePooling1D(pool_size=2))\n",
        "_model.add(Conv1D(filters=64, kernel_size = 1, activation='relu'))\n",
        "_model.add(Flatten())\n",
        "_model.add(Dense(64, activation='relu'))\n",
        "_model.add(Dense(2, kernel_regularizer=l2(0.1), activation = 'linear'))\n",
        "_model.compile(loss='squared_hinge', optimizer='adadelta', metrics=['accuracy'])"
      ],
      "execution_count": null,
      "outputs": []
    },
    {
      "cell_type": "code",
      "metadata": {
        "colab": {
          "base_uri": "https://localhost:8080/"
        },
        "id": "KnamR2AHMg13",
        "outputId": "b65a2afc-c72e-400d-debd-6bc5819cbf7e"
      },
      "source": [
        "_model.fit(X, Y, batch_size=16, epochs=20, validation_split=0.2)"
      ],
      "execution_count": null,
      "outputs": [
        {
          "output_type": "stream",
          "text": [
            "Epoch 1/20\n",
            "33/33 [==============================] - 0s 6ms/step - loss: 1.0445 - accuracy: 0.0835 - val_loss: 1.0586 - val_accuracy: 0.0930\n",
            "Epoch 2/20\n",
            "33/33 [==============================] - 0s 4ms/step - loss: 1.0436 - accuracy: 0.0854 - val_loss: 1.0581 - val_accuracy: 0.0930\n",
            "Epoch 3/20\n",
            "33/33 [==============================] - 0s 4ms/step - loss: 1.0424 - accuracy: 0.0854 - val_loss: 1.0578 - val_accuracy: 0.0698\n",
            "Epoch 4/20\n",
            "33/33 [==============================] - 0s 4ms/step - loss: 1.0416 - accuracy: 0.0854 - val_loss: 1.0559 - val_accuracy: 0.0930\n",
            "Epoch 5/20\n",
            "33/33 [==============================] - 0s 4ms/step - loss: 1.0404 - accuracy: 0.0835 - val_loss: 1.0547 - val_accuracy: 0.0930\n",
            "Epoch 6/20\n",
            "33/33 [==============================] - 0s 4ms/step - loss: 1.0397 - accuracy: 0.0932 - val_loss: 1.0541 - val_accuracy: 0.0930\n",
            "Epoch 7/20\n",
            "33/33 [==============================] - 0s 4ms/step - loss: 1.0385 - accuracy: 0.0835 - val_loss: 1.0539 - val_accuracy: 0.0930\n",
            "Epoch 8/20\n",
            "33/33 [==============================] - 0s 5ms/step - loss: 1.0377 - accuracy: 0.0835 - val_loss: 1.0523 - val_accuracy: 0.0930\n",
            "Epoch 9/20\n",
            "33/33 [==============================] - 0s 4ms/step - loss: 1.0364 - accuracy: 0.0874 - val_loss: 1.0514 - val_accuracy: 0.0930\n",
            "Epoch 10/20\n",
            "33/33 [==============================] - 0s 4ms/step - loss: 1.0357 - accuracy: 0.0835 - val_loss: 1.0509 - val_accuracy: 0.0930\n",
            "Epoch 11/20\n",
            "33/33 [==============================] - 0s 4ms/step - loss: 1.0346 - accuracy: 0.0835 - val_loss: 1.0506 - val_accuracy: 0.0930\n",
            "Epoch 12/20\n",
            "33/33 [==============================] - 0s 4ms/step - loss: 1.0334 - accuracy: 0.0835 - val_loss: 1.0483 - val_accuracy: 0.0930\n",
            "Epoch 13/20\n",
            "33/33 [==============================] - 0s 4ms/step - loss: 1.0325 - accuracy: 0.0854 - val_loss: 1.0477 - val_accuracy: 0.0930\n",
            "Epoch 14/20\n",
            "33/33 [==============================] - 0s 4ms/step - loss: 1.0320 - accuracy: 0.0874 - val_loss: 1.0473 - val_accuracy: 0.0853\n",
            "Epoch 15/20\n",
            "33/33 [==============================] - 0s 4ms/step - loss: 1.0309 - accuracy: 0.0874 - val_loss: 1.0457 - val_accuracy: 0.0930\n",
            "Epoch 16/20\n",
            "33/33 [==============================] - 0s 4ms/step - loss: 1.0297 - accuracy: 0.0893 - val_loss: 1.0446 - val_accuracy: 0.0930\n",
            "Epoch 17/20\n",
            "33/33 [==============================] - 0s 4ms/step - loss: 1.0285 - accuracy: 0.0854 - val_loss: 1.0438 - val_accuracy: 0.0930\n",
            "Epoch 18/20\n",
            "33/33 [==============================] - 0s 4ms/step - loss: 1.0278 - accuracy: 0.0835 - val_loss: 1.0431 - val_accuracy: 0.0930\n",
            "Epoch 19/20\n",
            "33/33 [==============================] - 0s 4ms/step - loss: 1.0265 - accuracy: 0.0835 - val_loss: 1.0420 - val_accuracy: 0.0930\n",
            "Epoch 20/20\n",
            "33/33 [==============================] - 0s 4ms/step - loss: 1.0259 - accuracy: 0.0854 - val_loss: 1.0408 - val_accuracy: 0.0930\n"
          ],
          "name": "stdout"
        },
        {
          "output_type": "execute_result",
          "data": {
            "text/plain": [
              "<tensorflow.python.keras.callbacks.History at 0x7febeb29f290>"
            ]
          },
          "metadata": {
            "tags": []
          },
          "execution_count": 27
        }
      ]
    },
    {
      "cell_type": "code",
      "metadata": {
        "colab": {
          "base_uri": "https://localhost:8080/"
        },
        "id": "jpUs4ocUCsFO",
        "outputId": "113f0587-a207-41c8-b143-d46390003b72"
      },
      "source": [
        "P = np.array(P).reshape(100,600,1)\n",
        "Q = np.array(Q).reshape(-1, 1)\n",
        "print(P.shape)"
      ],
      "execution_count": null,
      "outputs": [
        {
          "output_type": "stream",
          "text": [
            "(100, 600, 1)\n"
          ],
          "name": "stdout"
        }
      ]
    },
    {
      "cell_type": "code",
      "metadata": {
        "colab": {
          "base_uri": "https://localhost:8080/",
          "height": 214
        },
        "id": "IF9jB53TTFZC",
        "outputId": "50510696-3b51-491e-ed5f-c4f4a9a297e2"
      },
      "source": [
        "_model = Sequential()\n",
        "_model.add(Conv1D(filters=32, kernel_size = 1, strides=1, activation='relu', input_shape=(600, 1)))\n",
        "_model.add(AveragePooling1D(pool_size=2))\n",
        "_model.add(Conv1D(filters=64, kernel_size = 1, activation='relu'))\n",
        "_model.add(AveragePooling1D(pool_size=2))\n",
        "_model.add(Conv1D(filters=64, kernel_size = 1, activation='relu'))\n",
        "_model.add(AveragePooling1D(pool_size=2))\n",
        "_model.add(Dropout(0.20))\n",
        "_model.add(Conv1D(filters=32, kernel_size = 1, activation='relu'))\n",
        "_model.add(AveragePooling1D(pool_size=2))\n",
        "_model.add(Conv1D(filters=32, kernel_size = 1, activation='relu'))\n",
        "_model.add(Flatten())\n",
        "_model.add(Dense(64, activation='relu'))\n",
        "_model.add(Dense(2, kernel_regularizer=regularizers.l2(0.0001), activation = 'linear'))\n",
        "_model.compile(loss='squared_hinge', optimizer='adadelta', metrics=['accuracy'])"
      ],
      "execution_count": null,
      "outputs": [
        {
          "output_type": "error",
          "ename": "NameError",
          "evalue": "ignored",
          "traceback": [
            "\u001b[0;31m---------------------------------------------------------------------------\u001b[0m",
            "\u001b[0;31mNameError\u001b[0m                                 Traceback (most recent call last)",
            "\u001b[0;32m<ipython-input-13-4e84731c4fa5>\u001b[0m in \u001b[0;36m<module>\u001b[0;34m()\u001b[0m\n\u001b[1;32m     12\u001b[0m \u001b[0m_model\u001b[0m\u001b[0;34m.\u001b[0m\u001b[0madd\u001b[0m\u001b[0;34m(\u001b[0m\u001b[0mFlatten\u001b[0m\u001b[0;34m(\u001b[0m\u001b[0;34m)\u001b[0m\u001b[0;34m)\u001b[0m\u001b[0;34m\u001b[0m\u001b[0;34m\u001b[0m\u001b[0m\n\u001b[1;32m     13\u001b[0m \u001b[0m_model\u001b[0m\u001b[0;34m.\u001b[0m\u001b[0madd\u001b[0m\u001b[0;34m(\u001b[0m\u001b[0mDense\u001b[0m\u001b[0;34m(\u001b[0m\u001b[0;36m64\u001b[0m\u001b[0;34m,\u001b[0m \u001b[0mactivation\u001b[0m\u001b[0;34m=\u001b[0m\u001b[0;34m'relu'\u001b[0m\u001b[0;34m)\u001b[0m\u001b[0;34m)\u001b[0m\u001b[0;34m\u001b[0m\u001b[0;34m\u001b[0m\u001b[0m\n\u001b[0;32m---> 14\u001b[0;31m \u001b[0m_model\u001b[0m\u001b[0;34m.\u001b[0m\u001b[0madd\u001b[0m\u001b[0;34m(\u001b[0m\u001b[0mDense\u001b[0m\u001b[0;34m(\u001b[0m\u001b[0;36m2\u001b[0m\u001b[0;34m,\u001b[0m \u001b[0mkernel_regularizer\u001b[0m\u001b[0;34m=\u001b[0m\u001b[0mregularizers\u001b[0m\u001b[0;34m.\u001b[0m\u001b[0ml2\u001b[0m\u001b[0;34m(\u001b[0m\u001b[0;36m0.0001\u001b[0m\u001b[0;34m)\u001b[0m\u001b[0;34m,\u001b[0m \u001b[0mactivation\u001b[0m \u001b[0;34m=\u001b[0m \u001b[0;34m'linear'\u001b[0m\u001b[0;34m)\u001b[0m\u001b[0;34m)\u001b[0m\u001b[0;34m\u001b[0m\u001b[0;34m\u001b[0m\u001b[0m\n\u001b[0m\u001b[1;32m     15\u001b[0m \u001b[0m_model\u001b[0m\u001b[0;34m.\u001b[0m\u001b[0mcompile\u001b[0m\u001b[0;34m(\u001b[0m\u001b[0mloss\u001b[0m\u001b[0;34m=\u001b[0m\u001b[0;34m'squared_hinge'\u001b[0m\u001b[0;34m,\u001b[0m \u001b[0moptimizer\u001b[0m\u001b[0;34m=\u001b[0m\u001b[0;34m'adadelta'\u001b[0m\u001b[0;34m,\u001b[0m \u001b[0mmetrics\u001b[0m\u001b[0;34m=\u001b[0m\u001b[0;34m[\u001b[0m\u001b[0;34m'accuracy'\u001b[0m\u001b[0;34m]\u001b[0m\u001b[0;34m)\u001b[0m\u001b[0;34m\u001b[0m\u001b[0;34m\u001b[0m\u001b[0m\n",
            "\u001b[0;31mNameError\u001b[0m: name 'regularizers' is not defined"
          ]
        }
      ]
    },
    {
      "cell_type": "code",
      "metadata": {
        "id": "7asN7kjlVTg-"
      },
      "source": [
        "hist = _model.fit(P, Q, epochs = 20, batch_size=64, verbose=0, val)"
      ],
      "execution_count": null,
      "outputs": []
    },
    {
      "cell_type": "code",
      "metadata": {
        "id": "nMX5fBzz2Pmp"
      },
      "source": [
        "y = Q.reshape(100, )"
      ],
      "execution_count": null,
      "outputs": []
    },
    {
      "cell_type": "code",
      "metadata": {
        "id": "DBsAl8cY9DCT"
      },
      "source": [
        "Q"
      ],
      "execution_count": null,
      "outputs": []
    },
    {
      "cell_type": "code",
      "metadata": {
        "colab": {
          "base_uri": "https://localhost:8080/"
        },
        "id": "pZA2UnPR2aEJ",
        "outputId": "5023588e-092e-44e6-ca38-d10650a2c3b1"
      },
      "source": [
        "co = 0\n",
        "for i in range(100):\n",
        "  if a[i] == y[i]:\n",
        "    co+=1\n",
        "print(co)"
      ],
      "execution_count": null,
      "outputs": [
        {
          "output_type": "stream",
          "text": [
            "55\n"
          ],
          "name": "stdout"
        }
      ]
    },
    {
      "cell_type": "code",
      "metadata": {
        "colab": {
          "base_uri": "https://localhost:8080/"
        },
        "id": "CLgtoZs4C3Zb",
        "outputId": "37f8781a-2be5-4c39-ca8e-0c38849219e2"
      },
      "source": [
        "a = M.predict_classes(P)"
      ],
      "execution_count": null,
      "outputs": [
        {
          "output_type": "stream",
          "text": [
            "WARNING:tensorflow:From <ipython-input-16-efc1757dc9f7>:1: Sequential.predict_classes (from tensorflow.python.keras.engine.sequential) is deprecated and will be removed after 2021-01-01.\n",
            "Instructions for updating:\n",
            "Please use instead:* `np.argmax(model.predict(x), axis=-1)`,   if your model does multi-class classification   (e.g. if it uses a `softmax` last-layer activation).* `(model.predict(x) > 0.5).astype(\"int32\")`,   if your model does binary classification   (e.g. if it uses a `sigmoid` last-layer activation).\n"
          ],
          "name": "stdout"
        }
      ]
    },
    {
      "cell_type": "code",
      "metadata": {
        "id": "OTjtDW5n7S6a"
      },
      "source": [
        "a = []\n",
        "for i in range(39):\n",
        "  a.append(1)\n",
        "for i in range(39, 50):\n",
        "  a.append(0)\n",
        "for i in range(50, 92):\n",
        "  a.append(0)\n",
        "for i in range(92, 100):\n",
        "  a.append(1)"
      ],
      "execution_count": null,
      "outputs": []
    },
    {
      "cell_type": "code",
      "metadata": {
        "id": "Poe4eWv11eRV"
      },
      "source": [
        "M = load_model(\"/content/alpha.h5\")"
      ],
      "execution_count": null,
      "outputs": []
    },
    {
      "cell_type": "code",
      "metadata": {
        "colab": {
          "base_uri": "https://localhost:8080/"
        },
        "id": "JnaIpkKwzgi7",
        "outputId": "9b973b6b-5b91-4b17-f168-fe49aead2992"
      },
      "source": [
        "confusion_matrix(y, y_)"
      ],
      "execution_count": null,
      "outputs": [
        {
          "output_type": "execute_result",
          "data": {
            "text/plain": [
              "array([[42,  8],\n",
              "       [11, 39]])"
            ]
          },
          "metadata": {
            "tags": []
          },
          "execution_count": 28
        }
      ]
    },
    {
      "cell_type": "code",
      "metadata": {
        "colab": {
          "base_uri": "https://localhost:8080/"
        },
        "id": "6NSRNnvK_3Op",
        "outputId": "3ed53a0b-40f0-403b-d595-a70c452fde82"
      },
      "source": [
        "M.summary()"
      ],
      "execution_count": null,
      "outputs": [
        {
          "output_type": "stream",
          "text": [
            "Model: \"sequential_56\"\n",
            "_________________________________________________________________\n",
            "Layer (type)                 Output Shape              Param #   \n",
            "=================================================================\n",
            "conv1d_206 (Conv1D)          (None, 598, 32)           128       \n",
            "_________________________________________________________________\n",
            "average_pooling1d_174 (Avera (None, 299, 32)           0         \n",
            "_________________________________________________________________\n",
            "conv1d_207 (Conv1D)          (None, 297, 64)           6208      \n",
            "_________________________________________________________________\n",
            "average_pooling1d_175 (Avera (None, 148, 64)           0         \n",
            "_________________________________________________________________\n",
            "conv1d_208 (Conv1D)          (None, 146, 64)           12352     \n",
            "_________________________________________________________________\n",
            "average_pooling1d_176 (Avera (None, 73, 64)            0         \n",
            "_________________________________________________________________\n",
            "dropout_24 (Dropout)         (None, 73, 64)            0         \n",
            "_________________________________________________________________\n",
            "conv1d_209 (Conv1D)          (None, 71, 32)            6176      \n",
            "_________________________________________________________________\n",
            "average_pooling1d_177 (Avera (None, 35, 32)            0         \n",
            "_________________________________________________________________\n",
            "conv1d_210 (Conv1D)          (None, 33, 32)            3104      \n",
            "_________________________________________________________________\n",
            "flatten_32 (Flatten)         (None, 1056)              0         \n",
            "_________________________________________________________________\n",
            "dense_143 (Dense)            (None, 64)                67648     \n",
            "_________________________________________________________________\n",
            "dense_144 (Dense)            (None, 2)                 130       \n",
            "=================================================================\n",
            "Total params: 95,746\n",
            "Trainable params: 95,746\n",
            "Non-trainable params: 0\n",
            "_________________________________________________________________\n"
          ],
          "name": "stdout"
        }
      ]
    },
    {
      "cell_type": "code",
      "metadata": {
        "id": "zOCUVZnf0tmo"
      },
      "source": [
        "data = pd.read_csv(\"/content/XT (2).csv\")"
      ],
      "execution_count": null,
      "outputs": []
    },
    {
      "cell_type": "code",
      "metadata": {
        "id": "OnErPFU70yT9"
      },
      "source": [
        "D = data.values"
      ],
      "execution_count": null,
      "outputs": []
    },
    {
      "cell_type": "code",
      "metadata": {
        "colab": {
          "base_uri": "https://localhost:8080/"
        },
        "id": "wpqch7xa04TY",
        "outputId": "c4a0ede0-f266-46c3-a8bc-8eba3988a5d9"
      },
      "source": [
        "D.shape"
      ],
      "execution_count": null,
      "outputs": [
        {
          "output_type": "execute_result",
          "data": {
            "text/plain": [
              "(100, 601)"
            ]
          },
          "metadata": {
            "tags": []
          },
          "execution_count": 7
        }
      ]
    },
    {
      "cell_type": "code",
      "metadata": {
        "id": "XKEK2o4807hE"
      },
      "source": [
        "D = D.astype('int')"
      ],
      "execution_count": null,
      "outputs": []
    },
    {
      "cell_type": "code",
      "metadata": {
        "colab": {
          "base_uri": "https://localhost:8080/"
        },
        "id": "aACk6Y3D1FmW",
        "outputId": "6732ffe7-f8da-4b7c-b873-3ce6633156b5"
      },
      "source": [
        "D"
      ],
      "execution_count": null,
      "outputs": [
        {
          "output_type": "execute_result",
          "data": {
            "text/plain": [
              "array([[97, 91, 94, ..., 98, 99,  1],\n",
              "       [98, 98, 98, ..., 91, 98,  1],\n",
              "       [98, 95, 98, ..., 96, 97,  1],\n",
              "       ...,\n",
              "       [84, 87, 87, ..., 90, 95,  0],\n",
              "       [89, 81, 85, ..., 90, 91,  0],\n",
              "       [79, 95, 91, ..., 87, 91,  0]])"
            ]
          },
          "metadata": {
            "tags": []
          },
          "execution_count": 10
        }
      ]
    },
    {
      "cell_type": "code",
      "metadata": {
        "id": "aOJmfqHgD3sz",
        "colab": {
          "base_uri": "https://localhost:8080/"
        },
        "outputId": "72302b6b-e9ba-4b55-88ca-48dd82337e4c"
      },
      "source": [
        "drive.mount(\"/content/gdrive\", force_remount=True)"
      ],
      "execution_count": null,
      "outputs": [
        {
          "output_type": "stream",
          "text": [
            "Mounted at /content/gdrive\n"
          ],
          "name": "stdout"
        }
      ]
    },
    {
      "cell_type": "code",
      "metadata": {
        "id": "EB-J4ETly5y9"
      },
      "source": [
        "import pandas as pd\n",
        "data = pd.read_csv(\"/content/gdrive/My Drive/ApneaData.csv\")"
      ],
      "execution_count": null,
      "outputs": []
    },
    {
      "cell_type": "code",
      "metadata": {
        "id": "P8-VZgNr35po"
      },
      "source": [
        "np.random.shuffle(D)"
      ],
      "execution_count": null,
      "outputs": []
    },
    {
      "cell_type": "code",
      "metadata": {
        "id": "0Zq2qYdR4SlP"
      },
      "source": [
        "P = []\n",
        "Q = []"
      ],
      "execution_count": null,
      "outputs": []
    },
    {
      "cell_type": "code",
      "metadata": {
        "id": "or504aHn5cva"
      },
      "source": [
        "for i in range(100):\n",
        "  L = []\n",
        "  for k in range(600):\n",
        "    L.append(D[i][k])\n",
        "  P.append(L)\n",
        "  Q.append(D[i][-1])"
      ],
      "execution_count": null,
      "outputs": []
    },
    {
      "cell_type": "code",
      "metadata": {
        "id": "-zBSPoI4wDmr"
      },
      "source": [
        "P = np.array(P)\n",
        "Q = np.array(Q)"
      ],
      "execution_count": null,
      "outputs": []
    },
    {
      "cell_type": "code",
      "metadata": {
        "colab": {
          "base_uri": "https://localhost:8080/"
        },
        "id": "7ZypvK_gwLZ5",
        "outputId": "2e7cb4ed-8256-4223-a960-766d12503de2"
      },
      "source": [
        "print(P.shape, Q.shape)"
      ],
      "execution_count": null,
      "outputs": [
        {
          "output_type": "stream",
          "text": [
            "(100, 600) (100,)\n"
          ],
          "name": "stdout"
        }
      ]
    },
    {
      "cell_type": "code",
      "metadata": {
        "id": "OG83QEW_Ok8m",
        "colab": {
          "base_uri": "https://localhost:8080/"
        },
        "outputId": "88e7f834-d4f9-4483-80b6-5b4da2019ebe"
      },
      "source": [
        "Q = np.array(Q).reshape([-1, 1])\n",
        "Q.shape"
      ],
      "execution_count": null,
      "outputs": [
        {
          "output_type": "execute_result",
          "data": {
            "text/plain": [
              "(100, 1)"
            ]
          },
          "metadata": {
            "tags": []
          },
          "execution_count": 20
        }
      ]
    },
    {
      "cell_type": "code",
      "metadata": {
        "id": "C7CWJWVVO8VJ",
        "colab": {
          "base_uri": "https://localhost:8080/",
          "height": 346
        },
        "outputId": "4c6e585b-62f4-41a2-da39-712e93613660"
      },
      "source": [
        "X = np.arange(1, 601)\n",
        "Y = P[0]\n",
        "plt.figure(figsize=(30, 6))\n",
        "plt.plot(X, Y)"
      ],
      "execution_count": null,
      "outputs": [
        {
          "output_type": "execute_result",
          "data": {
            "text/plain": [
              "[<matplotlib.lines.Line2D at 0x7faaa957c978>]"
            ]
          },
          "metadata": {
            "tags": []
          },
          "execution_count": 23
        },
        {
          "output_type": "display_data",
          "data": {
            "image/png": "[encoded data removed]",
            "text/plain": [
              "<Figure size 2160x432 with 1 Axes>"
            ]
          },
          "metadata": {
            "tags": [],
            "needs_background": "light"
          }
        }
      ]
    },
    {
      "cell_type": "code",
      "metadata": {
        "id": "cCZpBhK5wZc1"
      },
      "source": [
        "X_train, X_test, Y_train, Y_test = tts(P, Q, test_size=0.10)"
      ],
      "execution_count": null,
      "outputs": []
    },
    {
      "cell_type": "code",
      "metadata": {
        "id": "tZ2pMp5f0nuu",
        "colab": {
          "base_uri": "https://localhost:8080/"
        },
        "outputId": "63a23549-cd97-4614-92f7-621ae3b98fa9"
      },
      "source": [
        "model = RFC(n_estimators = 100, random_state=0,max_depth = 20)\n",
        "model.fit(X_train, Y_train)"
      ],
      "execution_count": null,
      "outputs": [
        {
          "output_type": "stream",
          "text": [
            "/usr/local/lib/python3.6/dist-packages/ipykernel_launcher.py:2: DataConversionWarning: A column-vector y was passed when a 1d array was expected. Please change the shape of y to (n_samples,), for example using ravel().\n",
            "  \n"
          ],
          "name": "stderr"
        },
        {
          "output_type": "execute_result",
          "data": {
            "text/plain": [
              "RandomForestClassifier(bootstrap=True, ccp_alpha=0.0, class_weight=None,\n",
              "                       criterion='gini', max_depth=20, max_features='auto',\n",
              "                       max_leaf_nodes=None, max_samples=None,\n",
              "                       min_impurity_decrease=0.0, min_impurity_split=None,\n",
              "                       min_samples_leaf=1, min_samples_split=2,\n",
              "                       min_weight_fraction_leaf=0.0, n_estimators=100,\n",
              "                       n_jobs=None, oob_score=False, random_state=0, verbose=0,\n",
              "                       warm_start=False)"
            ]
          },
          "metadata": {
            "tags": []
          },
          "execution_count": 12
        }
      ]
    },
    {
      "cell_type": "code",
      "metadata": {
        "id": "QfHyV61b9eQq",
        "colab": {
          "base_uri": "https://localhost:8080/"
        },
        "outputId": "c3591680-8ed0-4355-815e-4b50de3e3774"
      },
      "source": [
        "X_train.shape[0]"
      ],
      "execution_count": null,
      "outputs": [
        {
          "output_type": "execute_result",
          "data": {
            "text/plain": [
              "13288"
            ]
          },
          "metadata": {
            "tags": []
          },
          "execution_count": 13
        }
      ]
    },
    {
      "cell_type": "code",
      "metadata": {
        "id": "KCo17x768oIu"
      },
      "source": [
        "pred = []\n",
        "for i in range(X_test.shape[0]):\n",
        "  pred.append(model.predict([X_test[i]]))"
      ],
      "execution_count": null,
      "outputs": []
    },
    {
      "cell_type": "code",
      "metadata": {
        "id": "S8zoTheD9ZVV"
      },
      "source": [
        "score = accuracy_score(pred, Y_test)*100"
      ],
      "execution_count": null,
      "outputs": []
    },
    {
      "cell_type": "code",
      "metadata": {
        "id": "K8Emi0-y_0kt",
        "colab": {
          "base_uri": "https://localhost:8080/"
        },
        "outputId": "9337f90b-adf7-4de9-9777-a208bbe4ca07"
      },
      "source": [
        "print(score)"
      ],
      "execution_count": null,
      "outputs": [
        {
          "output_type": "stream",
          "text": [
            "66.56635570267831\n"
          ],
          "name": "stdout"
        }
      ]
    },
    {
      "cell_type": "code",
      "metadata": {
        "id": "ajU5gSaA4X6x",
        "colab": {
          "base_uri": "https://localhost:8080/",
          "height": 296
        },
        "outputId": "6ebaa4e7-c3b4-43db-f559-b075cb62ffd5"
      },
      "source": [
        "plot_confusion_matrix(model, X_test, Y_test)"
      ],
      "execution_count": null,
      "outputs": [
        {
          "output_type": "execute_result",
          "data": {
            "text/plain": [
              "<sklearn.metrics._plot.confusion_matrix.ConfusionMatrixDisplay at 0x7f714e2e7908>"
            ]
          },
          "metadata": {
            "tags": []
          },
          "execution_count": 17
        },
        {
          "output_type": "display_data",
          "data": {
            "image/png": "[encoded data removed]",
            "text/plain": [
              "<Figure size 432x288 with 2 Axes>"
            ]
          },
          "metadata": {
            "tags": [],
            "needs_background": "light"
          }
        }
      ]
    },
    {
      "cell_type": "code",
      "metadata": {
        "id": "f2SdQ4Cu1Y0w"
      },
      "source": [
        "X_train = X_train.reshape((13288, 6000, 1))\n",
        "X_test = X_test.reshape(X_test.shape[0], X_test.shape[1], 1)"
      ],
      "execution_count": null,
      "outputs": []
    },
    {
      "cell_type": "code",
      "metadata": {
        "id": "UYxFCSqbQEHg"
      },
      "source": [
        "X_train = np.expand_dims(X_train, 2)\n",
        "X_test = np.expand_dims(X_test, 2)"
      ],
      "execution_count": null,
      "outputs": []
    },
    {
      "cell_type": "code",
      "metadata": {
        "id": "oTBsXLf7UsJN"
      },
      "source": [
        "X_alpha = np.abs(X_train)\n",
        "X_beta = np.abs(X_test)"
      ],
      "execution_count": null,
      "outputs": []
    },
    {
      "cell_type": "code",
      "metadata": {
        "colab": {
          "base_uri": "https://localhost:8080/"
        },
        "id": "XrG73MQVQO-p",
        "outputId": "fe9f0cf7-73ee-4438-ac06-c5d29155d724"
      },
      "source": [
        "print(X_train.shape)"
      ],
      "execution_count": null,
      "outputs": [
        {
          "output_type": "stream",
          "text": [
            "(80, 600, 1)\n"
          ],
          "name": "stdout"
        }
      ]
    },
    {
      "cell_type": "code",
      "metadata": {
        "id": "d6CaS6hVHneO"
      },
      "source": [
        ""
      ],
      "execution_count": null,
      "outputs": []
    },
    {
      "cell_type": "code",
      "metadata": {
        "colab": {
          "base_uri": "https://localhost:8080/"
        },
        "id": "jQy5JWFSM4Yv",
        "outputId": "b8548975-1055-411f-f9b5-ff4cba257593"
      },
      "source": [
        "print(Y_train.shape)"
      ],
      "execution_count": null,
      "outputs": [
        {
          "output_type": "stream",
          "text": [
            "(80, 1)\n"
          ],
          "name": "stdout"
        }
      ]
    },
    {
      "cell_type": "code",
      "metadata": {
        "id": "ZQpqXHe6odRh"
      },
      "source": [
        "_model = Sequential()\n",
        "_model.add(Conv1D(filters=32, kernel_size = 3, strides=1, activation='relu', input_shape=(600, 1)))\n",
        "_model.add(AveragePooling1D(pool_size=2))\n",
        "_model.add(Conv1D(filters=64, kernel_size = 3, activation='relu'))\n",
        "_model.add(AveragePooling1D(pool_size=2))\n",
        "_model.add(Conv1D(filters=64, kernel_size = 3, activation='relu'))\n",
        "_model.add(AveragePooling1D(pool_size=2))\n",
        "_model.add(Dropout(0.20))\n",
        "_model.add(Conv1D(filters=32, kernel_size = 3, activation='relu'))\n",
        "_model.add(AveragePooling1D(pool_size=2))\n",
        "_model.add(Conv1D(filters=32, kernel_size = 3, activation='relu'))\n",
        "_model.add(Flatten())\n",
        "_model.add(Dense(64, activation='relu'))\n",
        "_model.add(Dense(2, kernel_regularizer=regularizers.l2(0.0001), activation = 'linear'))\n",
        "_model.compile(loss='squared_hinge', optimizer='adadelta', metrics=['accuracy'])"
      ],
      "execution_count": null,
      "outputs": []
    },
    {
      "cell_type": "code",
      "metadata": {
        "colab": {
          "base_uri": "https://localhost:8080/"
        },
        "id": "BPBx85ZyxgEt",
        "outputId": "3ce3a76a-0699-4b5b-a44a-9bd448d9849e"
      },
      "source": [
        "_model.summary()"
      ],
      "execution_count": null,
      "outputs": [
        {
          "output_type": "stream",
          "text": [
            "Model: \"sequential_7\"\n",
            "_________________________________________________________________\n",
            "Layer (type)                 Output Shape              Param #   \n",
            "=================================================================\n",
            "conv1d_28 (Conv1D)           (None, 598, 16)           64        \n",
            "_________________________________________________________________\n",
            "conv1d_29 (Conv1D)           (None, 596, 32)           1568      \n",
            "_________________________________________________________________\n",
            "max_pooling1d_25 (MaxPooling (None, 298, 32)           0         \n",
            "_________________________________________________________________\n",
            "dropout_14 (Dropout)         (None, 298, 32)           0         \n",
            "_________________________________________________________________\n",
            "conv1d_30 (Conv1D)           (None, 296, 32)           3104      \n",
            "_________________________________________________________________\n",
            "conv1d_31 (Conv1D)           (None, 294, 64)           6208      \n",
            "_________________________________________________________________\n",
            "max_pooling1d_26 (MaxPooling (None, 147, 64)           0         \n",
            "_________________________________________________________________\n",
            "dropout_15 (Dropout)         (None, 147, 64)           0         \n",
            "_________________________________________________________________\n",
            "conv1d_32 (Conv1D)           (None, 145, 64)           12352     \n",
            "_________________________________________________________________\n",
            "conv1d_33 (Conv1D)           (None, 143, 64)           12352     \n",
            "_________________________________________________________________\n",
            "max_pooling1d_27 (MaxPooling (None, 71, 64)            0         \n",
            "_________________________________________________________________\n",
            "dropout_16 (Dropout)         (None, 71, 64)            0         \n",
            "_________________________________________________________________\n",
            "flatten_7 (Flatten)          (None, 4544)              0         \n",
            "_________________________________________________________________\n",
            "dense_25 (Dense)             (None, 16)                72720     \n",
            "_________________________________________________________________\n",
            "dense_26 (Dense)             (None, 8)                 136       \n",
            "_________________________________________________________________\n",
            "dense_27 (Dense)             (None, 1)                 9         \n",
            "=================================================================\n",
            "Total params: 108,513\n",
            "Trainable params: 108,513\n",
            "Non-trainable params: 0\n",
            "_________________________________________________________________\n"
          ],
          "name": "stdout"
        }
      ]
    },
    {
      "cell_type": "code",
      "metadata": {
        "id": "l_QV-wPqqSp4"
      },
      "source": [
        "hist = _model.fit(X_train, Y_train, epochs = 20, batch_size=64, verbose=0, validation_data=(X_test, Y_test))"
      ],
      "execution_count": null,
      "outputs": []
    },
    {
      "cell_type": "code",
      "metadata": {
        "colab": {
          "base_uri": "https://localhost:8080/"
        },
        "id": "88F1bxThS5vs",
        "outputId": "1b6cbe1b-c9bd-4628-d196-d00bc6b87978"
      },
      "source": [
        "hist.history "
      ],
      "execution_count": null,
      "outputs": [
        {
          "output_type": "execute_result",
          "data": {
            "text/plain": [
              "{'accuracy': [0.4749999940395355,\n",
              "  0.512499988079071,\n",
              "  0.512499988079071,\n",
              "  0.44999998807907104,\n",
              "  0.5,\n",
              "  0.48750001192092896,\n",
              "  0.48750001192092896,\n",
              "  0.48750001192092896,\n",
              "  0.48750001192092896,\n",
              "  0.48750001192092896,\n",
              "  0.48750001192092896,\n",
              "  0.48750001192092896,\n",
              "  0.48750001192092896,\n",
              "  0.48750001192092896,\n",
              "  0.48750001192092896,\n",
              "  0.48750001192092896,\n",
              "  0.48750001192092896,\n",
              "  0.48750001192092896,\n",
              "  0.48750001192092896,\n",
              "  0.48750001192092896],\n",
              " 'loss': [3.8307442665100098,\n",
              "  2.4537816047668457,\n",
              "  0.8666707277297974,\n",
              "  1.0094563961029053,\n",
              "  0.7273284196853638,\n",
              "  0.6940912008285522,\n",
              "  0.693205714225769,\n",
              "  0.6932511329650879,\n",
              "  0.6932511925697327,\n",
              "  0.6932450532913208,\n",
              "  0.693246066570282,\n",
              "  0.6932367086410522,\n",
              "  0.6932367086410522,\n",
              "  0.6932293176651001,\n",
              "  0.69325190782547,\n",
              "  0.6932417750358582,\n",
              "  0.6932500004768372,\n",
              "  0.6932469606399536,\n",
              "  0.6932497620582581,\n",
              "  0.693242073059082],\n",
              " 'val_accuracy': [0.44999998807907104,\n",
              "  0.44999998807907104,\n",
              "  0.550000011920929,\n",
              "  0.550000011920929,\n",
              "  0.550000011920929,\n",
              "  0.550000011920929,\n",
              "  0.550000011920929,\n",
              "  0.550000011920929,\n",
              "  0.550000011920929,\n",
              "  0.550000011920929,\n",
              "  0.550000011920929,\n",
              "  0.550000011920929,\n",
              "  0.550000011920929,\n",
              "  0.550000011920929,\n",
              "  0.550000011920929,\n",
              "  0.550000011920929,\n",
              "  0.550000011920929,\n",
              "  0.550000011920929,\n",
              "  0.550000011920929,\n",
              "  0.550000011920929],\n",
              " 'val_loss': [0.8998392820358276,\n",
              "  0.7050517201423645,\n",
              "  0.693050742149353,\n",
              "  0.6929296851158142,\n",
              "  0.6928479075431824,\n",
              "  0.6927992105484009,\n",
              "  0.6927748918533325,\n",
              "  0.6927693486213684,\n",
              "  0.6927785873413086,\n",
              "  0.6928001642227173,\n",
              "  0.6928275227546692,\n",
              "  0.6928447484970093,\n",
              "  0.6928475499153137,\n",
              "  0.6928260922431946,\n",
              "  0.692797064781189,\n",
              "  0.6927863955497742,\n",
              "  0.6927808523178101,\n",
              "  0.6927898526191711,\n",
              "  0.6927992701530457,\n",
              "  0.692803680896759]}"
            ]
          },
          "metadata": {
            "tags": []
          },
          "execution_count": 59
        }
      ]
    },
    {
      "cell_type": "code",
      "metadata": {
        "colab": {
          "base_uri": "https://localhost:8080/"
        },
        "id": "iUVK3VuHRI8c",
        "outputId": "99391717-c194-49c2-d1f1-46148340b76c"
      },
      "source": [
        "acc = _model.evaluate(X_test, Y_test)"
      ],
      "execution_count": null,
      "outputs": [
        {
          "output_type": "stream",
          "text": [
            "104/104 [==============================] - 1s 6ms/step - loss: 0.3825 - accuracy: 0.8390\n"
          ],
          "name": "stdout"
        }
      ]
    },
    {
      "cell_type": "code",
      "metadata": {
        "id": "2Xf0uC90aH4o"
      },
      "source": [
        "f = _model.predict_classes(X_beta)"
      ],
      "execution_count": null,
      "outputs": []
    },
    {
      "cell_type": "code",
      "metadata": {
        "colab": {
          "base_uri": "https://localhost:8080/"
        },
        "id": "0-yeyF_WbCS7",
        "outputId": "7c28d4ab-2baa-454f-fe9e-7a82004c4f98"
      },
      "source": [
        "f"
      ],
      "execution_count": null,
      "outputs": [
        {
          "output_type": "execute_result",
          "data": {
            "text/plain": [
              "array([[0],\n",
              "       [0],\n",
              "       [0],\n",
              "       ...,\n",
              "       [0],\n",
              "       [1],\n",
              "       [0]], dtype=int32)"
            ]
          },
          "metadata": {
            "tags": []
          },
          "execution_count": 47
        }
      ]
    },
    {
      "cell_type": "code",
      "metadata": {
        "colab": {
          "base_uri": "https://localhost:8080/"
        },
        "id": "G4PQObFebD0w",
        "outputId": "12fde073-00c7-4537-eb7c-4c9c2ba0a116"
      },
      "source": [
        "count = 0\n",
        "for i in range(len(f)):\n",
        "  if f[i] == 0:\n",
        "    count +=1\n",
        "print(count)"
      ],
      "execution_count": null,
      "outputs": [
        {
          "output_type": "stream",
          "text": [
            "2474\n"
          ],
          "name": "stdout"
        }
      ]
    },
    {
      "cell_type": "code",
      "metadata": {
        "id": "0O8fd3-3Aiw_"
      },
      "source": [
        "Data = []\n",
        "s = np.random.normal(loc = 96, scale = 4, size = 10)"
      ],
      "execution_count": null,
      "outputs": []
    },
    {
      "cell_type": "code",
      "metadata": {
        "id": "TPDbP_dDI7dg"
      },
      "source": [
        "f = np.random.normal(loc = 98, scale = 1, size = 100)"
      ],
      "execution_count": null,
      "outputs": []
    },
    {
      "cell_type": "code",
      "metadata": {
        "colab": {
          "base_uri": "https://localhost:8080/",
          "height": 300
        },
        "id": "r_21PKfOldV0",
        "outputId": "2bf5d880-9b3c-45c1-8ffc-4d1baa327608"
      },
      "source": [
        "num = levy_l.numargs\n",
        "a, b = 96, 1\n",
        "rv = levy_l(a, b)  \n",
        "quantile = np.arange (0.03, 2, 0.21) \n",
        "R = levy_l.rvs(a, b)\n",
        "R = levy_l.pdf(a, b, quantile)  \n",
        "distribution = np.linspace(91, np.maximum(rv.dist.b, 99), dtype = 'int')  \n",
        "print(np.mean(distribution))\n",
        "plt.plot(distribution, rv.pdf(distribution))"
      ],
      "execution_count": null,
      "outputs": [
        {
          "output_type": "stream",
          "text": [
            "94.52\n"
          ],
          "name": "stdout"
        },
        {
          "output_type": "execute_result",
          "data": {
            "text/plain": [
              "[<matplotlib.lines.Line2D at 0x7fb552b92d68>]"
            ]
          },
          "metadata": {
            "tags": []
          },
          "execution_count": 50
        },
        {
          "output_type": "display_data",
          "data": {
            "image/png": "[encoded data removed]",
            "text/plain": [
              "<Figure size 432x288 with 1 Axes>"
            ]
          },
          "metadata": {
            "tags": [],
            "needs_background": "light"
          }
        }
      ]
    },
    {
      "cell_type": "code",
      "metadata": {
        "id": "tZOoG_5zrqqr"
      },
      "source": [
        "T = skewnorm.pdf([1, 2, 3, 4, 5], 0, 4, 2)"
      ],
      "execution_count": null,
      "outputs": []
    },
    {
      "cell_type": "code",
      "metadata": {
        "id": "-DFHexNuvmTP"
      },
      "source": [
        "a = 4\n",
        "mean, var, skew, kurt = skewnorm.stats(a, moments='mvsk')"
      ],
      "execution_count": null,
      "outputs": []
    },
    {
      "cell_type": "code",
      "metadata": {
        "id": "lhuCbTHbwxK4"
      },
      "source": [
        "x = np.linspace(1, 10, 100, endpoint = True, dtype = 'int')"
      ],
      "execution_count": null,
      "outputs": []
    },
    {
      "cell_type": "code",
      "metadata": {
        "id": "Vv2IK9KZz53y"
      },
      "source": [
        "y = 1/(np.sqrt(2*np.pi))*np.exp(-.5*(x)**2)"
      ],
      "execution_count": null,
      "outputs": []
    },
    {
      "cell_type": "code",
      "metadata": {
        "colab": {
          "base_uri": "https://localhost:8080/",
          "height": 283
        },
        "id": "Kuhjobzx0a4i",
        "outputId": "e495cb06-4a30-41a1-f7b2-da508ed7fc9a"
      },
      "source": [
        "plt.plot(x, y, '.')"
      ],
      "execution_count": null,
      "outputs": [
        {
          "output_type": "execute_result",
          "data": {
            "text/plain": [
              "[<matplotlib.lines.Line2D at 0x7f74fb3bc320>]"
            ]
          },
          "metadata": {
            "tags": []
          },
          "execution_count": 26
        },
        {
          "output_type": "display_data",
          "data": {
            "image/png": "[encoded data removed]",
            "text/plain": [
              "<Figure size 432x288 with 1 Axes>"
            ]
          },
          "metadata": {
            "tags": [],
            "needs_background": "light"
          }
        }
      ]
    },
    {
      "cell_type": "code",
      "metadata": {
        "colab": {
          "base_uri": "https://localhost:8080/",
          "height": 554
        },
        "id": "yFYAFXwp059A",
        "outputId": "e7966422-b053-4683-cac1-1e8e7d915876"
      },
      "source": [
        "a = -4\n",
        "mean, var, skew, kurt = skewnorm.stats(a, moments = 'mvsk')\n",
        "x = np.linspace(skewnorm.ppf(0.01, a), skewnorm.ppf(0.99, a), 100)\n",
        "print(x)\n",
        "plt.plot(x, skewnorm.pdf(x, a))\n",
        "rv = skewnorm(a)\n",
        "plt.plot(x, rv.pdf(x), 'k-', lw=2, label='frozen pdf')\n",
        "vals = skewnorm.pdf([0.001, 0.5, 0.999], a)\n",
        "np.allclose([0.001, 0.5, 0.999], skewnorm.cdf(vals, a))\n",
        "r = skewnorm.rvs(a,size = 1000)\n",
        "plt.hist(r, density = True, histtype = 'stepfilled', alpha = 0.2)\n",
        "plt.legend(loc = 'best', frameon = False)\n",
        "plt.show()"
      ],
      "execution_count": null,
      "outputs": [
        {
          "output_type": "stream",
          "text": [
            "[-2.5758293  -2.54674938 -2.51766945 -2.48858952 -2.45950959 -2.43042966\n",
            " -2.40134973 -2.3722698  -2.34318987 -2.31410994 -2.28503001 -2.25595009\n",
            " -2.22687016 -2.19779023 -2.1687103  -2.13963037 -2.11055044 -2.08147051\n",
            " -2.05239058 -2.02331065 -1.99423072 -1.9651508  -1.93607087 -1.90699094\n",
            " -1.87791101 -1.84883108 -1.81975115 -1.79067122 -1.76159129 -1.73251136\n",
            " -1.70343143 -1.67435151 -1.64527158 -1.61619165 -1.58711172 -1.55803179\n",
            " -1.52895186 -1.49987193 -1.470792   -1.44171207 -1.41263214 -1.38355222\n",
            " -1.35447229 -1.32539236 -1.29631243 -1.2672325  -1.23815257 -1.20907264\n",
            " -1.17999271 -1.15091278 -1.12183285 -1.09275292 -1.063673   -1.03459307\n",
            " -1.00551314 -0.97643321 -0.94735328 -0.91827335 -0.88919342 -0.86011349\n",
            " -0.83103356 -0.80195363 -0.77287371 -0.74379378 -0.71471385 -0.68563392\n",
            " -0.65655399 -0.62747406 -0.59839413 -0.5693142  -0.54023427 -0.51115434\n",
            " -0.48207442 -0.45299449 -0.42391456 -0.39483463 -0.3657547  -0.33667477\n",
            " -0.30759484 -0.27851491 -0.24943498 -0.22035505 -0.19127513 -0.1621952\n",
            " -0.13311527 -0.10403534 -0.07495541 -0.04587548 -0.01679555  0.01228438\n",
            "  0.04136431  0.07044424  0.09952416  0.12860409  0.15768402  0.18676395\n",
            "  0.21584388  0.24492381  0.27400374  0.30308367]\n"
          ],
          "name": "stdout"
        },
        {
          "output_type": "display_data",
          "data": {
            "image/png": "[encoded data removed]",
            "text/plain": [
              "<Figure size 432x288 with 1 Axes>"
            ]
          },
          "metadata": {
            "tags": [],
            "needs_background": "light"
          }
        }
      ]
    },
    {
      "cell_type": "code",
      "metadata": {
        "id": "uCR4si7aAyDU"
      },
      "source": [
        "F = np.linspace(91, 99, 720, dtype = 'int')"
      ],
      "execution_count": null,
      "outputs": []
    },
    {
      "cell_type": "code",
      "metadata": {
        "id": "EO6q9G9YBdEU"
      },
      "source": [
        "X = {91:0, 92:0, 93:0, 94:0, 95:0, 96:0, 97:0, 98:0, 99:0}"
      ],
      "execution_count": null,
      "outputs": []
    },
    {
      "cell_type": "code",
      "metadata": {
        "colab": {
          "base_uri": "https://localhost:8080/"
        },
        "id": "N7Xt4HUSB0Bd",
        "outputId": "54f4ee69-4a21-42e8-c24a-d0905ac53a55"
      },
      "source": [
        "for i in F:\n",
        "  X[i]+=1\n",
        "print(X)"
      ],
      "execution_count": null,
      "outputs": [
        {
          "output_type": "stream",
          "text": [
            "{91: 90, 92: 90, 93: 90, 94: 90, 95: 90, 96: 90, 97: 90, 98: 89, 99: 1}\n"
          ],
          "name": "stdout"
        }
      ]
    },
    {
      "cell_type": "code",
      "metadata": {
        "colab": {
          "base_uri": "https://localhost:8080/"
        },
        "id": "bYQ-iAbxCiLz",
        "outputId": "d8ed64d3-d5f4-4831-b3a6-3dd4cead3782"
      },
      "source": [
        "720*96"
      ],
      "execution_count": null,
      "outputs": [
        {
          "output_type": "execute_result",
          "data": {
            "text/plain": [
              "69120"
            ]
          },
          "metadata": {
            "tags": []
          },
          "execution_count": 44
        }
      ]
    },
    {
      "cell_type": "code",
      "metadata": {
        "colab": {
          "base_uri": "https://localhost:8080/"
        },
        "id": "9OLj-4tzCzqi",
        "outputId": "15648eee-512a-49fd-c57b-acc0680c7bd5"
      },
      "source": [
        "skewnorm.ppf(0.000000000, -5)"
      ],
      "execution_count": null,
      "outputs": [
        {
          "output_type": "execute_result",
          "data": {
            "text/plain": [
              "-6.466951087736388"
            ]
          },
          "metadata": {
            "tags": []
          },
          "execution_count": 56
        }
      ]
    },
    {
      "cell_type": "code",
      "metadata": {
        "id": "4G86Nh_Be_pf"
      },
      "source": [
        "S = []"
      ],
      "execution_count": null,
      "outputs": []
    },
    {
      "cell_type": "code",
      "metadata": {
        "id": "C2s5g-X7TlSx"
      },
      "source": [
        "data = np.random.normal(90, 4, 506)\n",
        "data = data.astype(int)"
      ],
      "execution_count": null,
      "outputs": []
    },
    {
      "cell_type": "code",
      "metadata": {
        "id": "efsLQp6wU00_"
      },
      "source": [
        "data1 = np.linspace(79, 89, 59, dtype = 'int')"
      ],
      "execution_count": null,
      "outputs": []
    },
    {
      "cell_type": "code",
      "metadata": {
        "id": "cTTNJNsQVfNw"
      },
      "source": [
        "data = np.concatenate((data, data1))"
      ],
      "execution_count": null,
      "outputs": []
    },
    {
      "cell_type": "code",
      "metadata": {
        "id": "ud5ofT_0VvQF"
      },
      "source": [
        "data2 = np.linspace(69, 79, 35, dtype = 'int')"
      ],
      "execution_count": null,
      "outputs": []
    },
    {
      "cell_type": "code",
      "metadata": {
        "id": "GBVzXXSaWIUq"
      },
      "source": [
        "data = np.concatenate((data, data2))"
      ],
      "execution_count": null,
      "outputs": []
    },
    {
      "cell_type": "code",
      "metadata": {
        "colab": {
          "base_uri": "https://localhost:8080/"
        },
        "id": "mhBfMpP-WMnh",
        "outputId": "65397678-6b7a-4640-c8ef-fd8331c1ff3c"
      },
      "source": [
        "np.mean(data)"
      ],
      "execution_count": null,
      "outputs": [
        {
          "output_type": "execute_result",
          "data": {
            "text/plain": [
              "87.935"
            ]
          },
          "metadata": {
            "tags": []
          },
          "execution_count": 255
        }
      ]
    },
    {
      "cell_type": "code",
      "metadata": {
        "id": "zYTkz2WLWZLU"
      },
      "source": [
        "D = {}\n",
        "for i in range(91, 101):\n",
        "  D.update({i:0})"
      ],
      "execution_count": null,
      "outputs": []
    },
    {
      "cell_type": "code",
      "metadata": {
        "colab": {
          "base_uri": "https://localhost:8080/"
        },
        "id": "opD_fn1zWn6i",
        "outputId": "fffcb837-af5e-431c-a43c-6bf75dcd0129"
      },
      "source": [
        "for i in data:\n",
        "  D[i]=0\n",
        "for i in data:\n",
        "  D[i]+=1\n",
        "D"
      ],
      "execution_count": null,
      "outputs": [
        {
          "output_type": "execute_result",
          "data": {
            "text/plain": [
              "{69: 4,\n",
              " 70: 3,\n",
              " 71: 4,\n",
              " 72: 3,\n",
              " 73: 3,\n",
              " 74: 4,\n",
              " 75: 3,\n",
              " 76: 4,\n",
              " 77: 4,\n",
              " 78: 3,\n",
              " 79: 8,\n",
              " 80: 9,\n",
              " 81: 10,\n",
              " 82: 16,\n",
              " 83: 17,\n",
              " 84: 29,\n",
              " 85: 38,\n",
              " 86: 37,\n",
              " 87: 44,\n",
              " 88: 45,\n",
              " 89: 60,\n",
              " 90: 52,\n",
              " 91: 44,\n",
              " 92: 50,\n",
              " 93: 32,\n",
              " 94: 31,\n",
              " 95: 17,\n",
              " 96: 7,\n",
              " 97: 4,\n",
              " 98: 9,\n",
              " 99: 3,\n",
              " 100: 3}"
            ]
          },
          "metadata": {
            "tags": []
          },
          "execution_count": 257
        }
      ]
    },
    {
      "cell_type": "code",
      "metadata": {
        "id": "Rrf4HBPof1cJ"
      },
      "source": [
        "alpha = []\n",
        "for i in range(99):\n",
        "  if i in D:\n",
        "    for j in range(D[i]):\n",
        "      alpha.append(i)"
      ],
      "execution_count": null,
      "outputs": []
    },
    {
      "cell_type": "code",
      "metadata": {
        "colab": {
          "base_uri": "https://localhost:8080/"
        },
        "id": "nInHudpMhMYq",
        "outputId": "a010709e-4fa3-406c-a14e-63923859068d"
      },
      "source": [
        "len(alpha)"
      ],
      "execution_count": null,
      "outputs": [
        {
          "output_type": "execute_result",
          "data": {
            "text/plain": [
              "594"
            ]
          },
          "metadata": {
            "tags": []
          },
          "execution_count": 259
        }
      ]
    },
    {
      "cell_type": "code",
      "metadata": {
        "id": "F08ZUCFAgtJY"
      },
      "source": [
        "for i in range(99, 110):\n",
        "  if i in D:\n",
        "    for j in range(D[i]):\n",
        "      alpha.append(92)"
      ],
      "execution_count": null,
      "outputs": []
    },
    {
      "cell_type": "code",
      "metadata": {
        "colab": {
          "base_uri": "https://localhost:8080/"
        },
        "id": "v7An5JRYhCEi",
        "outputId": "62d9054b-468a-458d-a8df-dc6c7caae45c"
      },
      "source": [
        "len(alpha)"
      ],
      "execution_count": null,
      "outputs": [
        {
          "output_type": "execute_result",
          "data": {
            "text/plain": [
              "600"
            ]
          },
          "metadata": {
            "tags": []
          },
          "execution_count": 261
        }
      ]
    },
    {
      "cell_type": "code",
      "metadata": {
        "id": "JFXFRSFEagQg"
      },
      "source": [
        "data = np.array(alpha)"
      ],
      "execution_count": null,
      "outputs": []
    },
    {
      "cell_type": "code",
      "metadata": {
        "id": "S4FgOWTPipgg"
      },
      "source": [
        "np.random.shuffle(data)"
      ],
      "execution_count": null,
      "outputs": []
    },
    {
      "cell_type": "code",
      "metadata": {
        "id": "ubkiNAuWiuf_"
      },
      "source": [
        "FP = np.array([0])\n"
      ],
      "execution_count": null,
      "outputs": []
    },
    {
      "cell_type": "code",
      "metadata": {
        "id": "FXVkqHHni312"
      },
      "source": [
        "data = np.concatenate((data, FP))"
      ],
      "execution_count": null,
      "outputs": []
    },
    {
      "cell_type": "code",
      "metadata": {
        "id": "dcK5eQtenTB5"
      },
      "source": [
        "S.append(data)"
      ],
      "execution_count": null,
      "outputs": []
    },
    {
      "cell_type": "code",
      "metadata": {
        "id": "udIWW2thnumV"
      },
      "source": [
        "G = []\n",
        "G = S"
      ],
      "execution_count": null,
      "outputs": []
    },
    {
      "cell_type": "code",
      "metadata": {
        "id": "VHkoIlhe94MZ"
      },
      "source": [
        "D = np.array(G)"
      ],
      "execution_count": null,
      "outputs": []
    },
    {
      "cell_type": "code",
      "metadata": {
        "id": "78WY-hYgjA5w"
      },
      "source": [
        "np.savetxt('/content/XT.csv', D, delimiter = ',')"
      ],
      "execution_count": null,
      "outputs": []
    },
    {
      "cell_type": "code",
      "metadata": {
        "colab": {
          "base_uri": "https://localhost:8080/"
        },
        "id": "Bf46s_A6ialR",
        "outputId": "5e9e7a3b-ccd0-4793-8afa-2d19e39e318c"
      },
      "source": [
        "data"
      ],
      "execution_count": null,
      "outputs": [
        {
          "output_type": "execute_result",
          "data": {
            "text/plain": [
              "array([ 94,  98,  98, 100,  97,  99,  94,  96,  94,  97,  97,  98,  95,\n",
              "        98,  94,  97,  98,  98,  96,  97,  99,  98,  98,  97,  98,  97,\n",
              "        99,  99,  97,  97,  97,  94,  99,  98,  99,  93,  97,  93,  98,\n",
              "        97,  98,  99,  98,  97,  98,  97,  98,  97,  98,  98,  92,  97,\n",
              "        97,  95,  92,  96,  94,  99,  98,  95,  96,  98,  94,  98,  99,\n",
              "        98,  96,  98,  98,  99,  97,  97,  94,  98,  99,  97,  98,  97,\n",
              "        97,  96,  97,  98,  97,  98,  99,  97,  98,  97,  98,  98,  95,\n",
              "        98,  99,  98,  97,  95,  98,  99,  96,  96,  98,  96,  97,  97,\n",
              "        96,  98,  96,  97,  98,  97,  97,  98,  98,  97,  98,  98,  97,\n",
              "        99,  97,  99,  97,  96,  96,  98,  99,  97,  97,  92,  99,  97,\n",
              "        98,  96,  97,  98,  96,  98,  98,  96,  98,  97,  97,  96,  97,\n",
              "        98,  97,  98,  97,  99,  94,  97,  97,  99,  96,  97,  97,  98,\n",
              "        98,  98,  97,  98,  97,  92,  97,  97,  98,  98,  95,  98,  97,\n",
              "        97,  94,  98,  91,  97,  98,  95,  99,  99,  98,  98,  96,  97,\n",
              "        98,  98,  96,  97,  98,  95,  98,  98,  96,  98,  97,  98,  97,\n",
              "        98,  99,  98,  98,  97,  97,  97,  98,  99,  98,  98,  98,  98,\n",
              "        98,  99,  96,  98,  96,  97,  98,  98,  98,  98,  97,  97,  98,\n",
              "        97,  95,  95,  97,  92,  97,  96,  97,  98,  97,  98,  96,  97,\n",
              "        97,  96,  97,  99,  97,  97,  93,  96,  95,  97,  99,  98,  91,\n",
              "        97,  97,  98,  95,  99,  98,  97,  98,  98,  96,  98,  99, 100,\n",
              "        98,  99,  98,  98,  99,  98,  98,  99,  97,  97,  97,  99,  96,\n",
              "        97,  98,  97,  98,  97,  98,  99,  98,  99,  99,  99,  97,  98,\n",
              "        98,  97,  97,  98,  97,  96,  99,  97,  98,  97,  98,  98,  98,\n",
              "        98,  96,  97,  96,  99,  96,  97,  98,  99,  97,  97,  97,  96,\n",
              "        98,  92,  97,  95,  91,  94,  95,  98,  98,  93,  97,  97,  97,\n",
              "        98,  98,  97,  98,  91,  98,  93,  99,  98,  97,  99,  98,  98,\n",
              "        99,  94,  98,  99,  98,  94,  96,  98,  97,  99,  99, 100,  97,\n",
              "        97,  96,  98,  95,  98,  98,  99,  99,  97,  91,  97,  95,  98,\n",
              "        99,  98,  97,  96,  98,  98,  96,  98,  96,  97,  96,  95,  98,\n",
              "        93,  92,  96,  98,  98,  96,  97,  98,  98,  98,  97,  95,  97,\n",
              "        97,  97,  96,  98,  97,  94,  93,  99,  99,  96,  98,  97,  98,\n",
              "        98,  96,  91,  97,  97,  95,  93,  98,  98,  96,  97,  96,  99,\n",
              "        97,  97,  97,  99,  97,  97,  91,  98,  91,  96,  96,  96,  97,\n",
              "        97,  98,  98,  97,  97,  99,  98,  98,  91,  97,  98,  99,  98,\n",
              "        97, 100,  97,  99,  93,  93,  97,  99, 100,  95,  97,  99,  98,\n",
              "        96,  98,  96,  95,  96,  98,  99,  98,  95,  92,  98,  96,  97,\n",
              "        98,  95,  97,  95,  92,  98,  98,  98,  98,  98,  96,  93,  91,\n",
              "        97,  99,  97,  97,  98,  98,  97,  98,  98,  99,  97,  98,  98,\n",
              "        97,  99,  97,  97,  97,  97,  96,  97,  98,  95,  97,  97,  97,\n",
              "        96,  98,  97,  98,  91,  97,  96,  97,  97,  98,  99,  97,  96,\n",
              "        98,  97,  97,  99,  97,  96,  96, 100,  97,  95,  92,  97,  97,\n",
              "        97,  98,  98,  97,  96,  96,  98,  94,  97,  97,  95,  98,  98,\n",
              "        95, 100,  96,  96,  98,  98,  98,  96,  95,  99,  96,  98,  99,\n",
              "        97,  95,  96,  99,  99,  97,  96,  97,  97,  96,  98,  98,  98,\n",
              "        96,  97,  97,  98,  97,  94,  97,  97,  97,  94,  96,  96,  97,\n",
              "        97,  96,  98,  98,  98,  98,  97,  98,  92,  96,  96,  99,  91,\n",
              "        99,  97,   1])"
            ]
          },
          "metadata": {
            "tags": []
          },
          "execution_count": 203
        }
      ]
    },
    {
      "cell_type": "code",
      "metadata": {
        "id": "MH3nms_Wlkrm"
      },
      "source": [
        "op = pd.read_csv('/content/XT.csv')"
      ],
      "execution_count": null,
      "outputs": []
    },
    {
      "cell_type": "code",
      "metadata": {
        "colab": {
          "base_uri": "https://localhost:8080/",
          "height": 532
        },
        "id": "wEGHIVt_l1kE",
        "outputId": "e5b0a284-3029-4268-f232-1fbd3f33cf73"
      },
      "source": [
        "op "
      ],
      "execution_count": null,
      "outputs": [
        {
          "output_type": "execute_result",
          "data": {
            "text/html": [
              "<div>\n",
              "<style scoped>\n",
              "    .dataframe tbody tr th:only-of-type {\n",
              "        vertical-align: middle;\n",
              "    }\n",
              "\n",
              "    .dataframe tbody tr th {\n",
              "        vertical-align: top;\n",
              "    }\n",
              "\n",
              "    .dataframe thead th {\n",
              "        text-align: right;\n",
              "    }\n",
              "</style>\n",
              "<table border=\"1\" class=\"dataframe\">\n",
              "  <thead>\n",
              "    <tr style=\"text-align: right;\">\n",
              "      <th></th>\n",
              "      <th>8.900000000000000000e+01</th>\n",
              "      <th>8.700000000000000000e+01</th>\n",
              "      <th>8.000000000000000000e+01</th>\n",
              "      <th>9.100000000000000000e+01</th>\n",
              "      <th>9.200000000000000000e+01</th>\n",
              "      <th>8.800000000000000000e+01</th>\n",
              "      <th>8.700000000000000000e+01.1</th>\n",
              "      <th>8.600000000000000000e+01</th>\n",
              "      <th>9.000000000000000000e+01</th>\n",
              "      <th>9.200000000000000000e+01.1</th>\n",
              "      <th>9.000000000000000000e+01.1</th>\n",
              "      <th>8.800000000000000000e+01.1</th>\n",
              "      <th>8.700000000000000000e+01.2</th>\n",
              "      <th>9.300000000000000000e+01</th>\n",
              "      <th>9.000000000000000000e+01.2</th>\n",
              "      <th>9.100000000000000000e+01.1</th>\n",
              "      <th>9.300000000000000000e+01.1</th>\n",
              "      <th>8.900000000000000000e+01.1</th>\n",
              "      <th>9.000000000000000000e+01.3</th>\n",
              "      <th>9.300000000000000000e+01.2</th>\n",
              "      <th>7.900000000000000000e+01</th>\n",
              "      <th>9.400000000000000000e+01</th>\n",
              "      <th>8.800000000000000000e+01.2</th>\n",
              "      <th>9.100000000000000000e+01.2</th>\n",
              "      <th>8.200000000000000000e+01</th>\n",
              "      <th>9.100000000000000000e+01.3</th>\n",
              "      <th>8.900000000000000000e+01.2</th>\n",
              "      <th>9.000000000000000000e+01.4</th>\n",
              "      <th>9.600000000000000000e+01</th>\n",
              "      <th>8.700000000000000000e+01.3</th>\n",
              "      <th>9.300000000000000000e+01.3</th>\n",
              "      <th>8.700000000000000000e+01.4</th>\n",
              "      <th>9.400000000000000000e+01.1</th>\n",
              "      <th>9.100000000000000000e+01.4</th>\n",
              "      <th>8.600000000000000000e+01.1</th>\n",
              "      <th>8.300000000000000000e+01</th>\n",
              "      <th>9.000000000000000000e+01.5</th>\n",
              "      <th>9.300000000000000000e+01.4</th>\n",
              "      <th>9.400000000000000000e+01.2</th>\n",
              "      <th>9.700000000000000000e+01</th>\n",
              "      <th>...</th>\n",
              "      <th>9.200000000000000000e+01.40</th>\n",
              "      <th>8.900000000000000000e+01.52</th>\n",
              "      <th>9.000000000000000000e+01.56</th>\n",
              "      <th>9.500000000000000000e+01.13</th>\n",
              "      <th>8.000000000000000000e+01.5</th>\n",
              "      <th>9.300000000000000000e+01.36</th>\n",
              "      <th>9.700000000000000000e+01.10</th>\n",
              "      <th>8.600000000000000000e+01.54</th>\n",
              "      <th>8.700000000000000000e+01.45</th>\n",
              "      <th>9.200000000000000000e+01.41</th>\n",
              "      <th>8.700000000000000000e+01.46</th>\n",
              "      <th>8.700000000000000000e+01.47</th>\n",
              "      <th>8.900000000000000000e+01.53</th>\n",
              "      <th>8.400000000000000000e+01.22</th>\n",
              "      <th>9.500000000000000000e+01.14</th>\n",
              "      <th>9.500000000000000000e+01.15</th>\n",
              "      <th>9.000000000000000000e+01.57</th>\n",
              "      <th>8.200000000000000000e+01.14</th>\n",
              "      <th>9.000000000000000000e+01.58</th>\n",
              "      <th>9.300000000000000000e+01.37</th>\n",
              "      <th>8.800000000000000000e+01.51</th>\n",
              "      <th>8.900000000000000000e+01.54</th>\n",
              "      <th>8.900000000000000000e+01.55</th>\n",
              "      <th>8.400000000000000000e+01.23</th>\n",
              "      <th>8.800000000000000000e+01.52</th>\n",
              "      <th>9.100000000000000000e+01.46</th>\n",
              "      <th>9.100000000000000000e+01.47</th>\n",
              "      <th>8.100000000000000000e+01.10</th>\n",
              "      <th>8.700000000000000000e+01.48</th>\n",
              "      <th>9.400000000000000000e+01.24</th>\n",
              "      <th>8.700000000000000000e+01.49</th>\n",
              "      <th>8.600000000000000000e+01.55</th>\n",
              "      <th>8.800000000000000000e+01.53</th>\n",
              "      <th>8.800000000000000000e+01.54</th>\n",
              "      <th>9.000000000000000000e+01.59</th>\n",
              "      <th>8.900000000000000000e+01.56</th>\n",
              "      <th>8.300000000000000000e+01.18</th>\n",
              "      <th>9.100000000000000000e+01.48</th>\n",
              "      <th>9.000000000000000000e+01.60</th>\n",
              "      <th>0.000000000000000000e+00</th>\n",
              "    </tr>\n",
              "  </thead>\n",
              "  <tbody>\n",
              "    <tr>\n",
              "      <th>0</th>\n",
              "      <td>94.0</td>\n",
              "      <td>88.0</td>\n",
              "      <td>90.0</td>\n",
              "      <td>88.0</td>\n",
              "      <td>92.0</td>\n",
              "      <td>87.0</td>\n",
              "      <td>88.0</td>\n",
              "      <td>88.0</td>\n",
              "      <td>93.0</td>\n",
              "      <td>92.0</td>\n",
              "      <td>97.0</td>\n",
              "      <td>87.0</td>\n",
              "      <td>97.0</td>\n",
              "      <td>84.0</td>\n",
              "      <td>87.0</td>\n",
              "      <td>76.0</td>\n",
              "      <td>95.0</td>\n",
              "      <td>70.0</td>\n",
              "      <td>88.0</td>\n",
              "      <td>89.0</td>\n",
              "      <td>94.0</td>\n",
              "      <td>88.0</td>\n",
              "      <td>86.0</td>\n",
              "      <td>88.0</td>\n",
              "      <td>95.0</td>\n",
              "      <td>87.0</td>\n",
              "      <td>87.0</td>\n",
              "      <td>89.0</td>\n",
              "      <td>81.0</td>\n",
              "      <td>90.0</td>\n",
              "      <td>87.0</td>\n",
              "      <td>86.0</td>\n",
              "      <td>83.0</td>\n",
              "      <td>88.0</td>\n",
              "      <td>98.0</td>\n",
              "      <td>80.0</td>\n",
              "      <td>94.0</td>\n",
              "      <td>86.0</td>\n",
              "      <td>90.0</td>\n",
              "      <td>87.0</td>\n",
              "      <td>...</td>\n",
              "      <td>92.0</td>\n",
              "      <td>96.0</td>\n",
              "      <td>86.0</td>\n",
              "      <td>85.0</td>\n",
              "      <td>94.0</td>\n",
              "      <td>88.0</td>\n",
              "      <td>87.0</td>\n",
              "      <td>88.0</td>\n",
              "      <td>87.0</td>\n",
              "      <td>71.0</td>\n",
              "      <td>90.0</td>\n",
              "      <td>87.0</td>\n",
              "      <td>86.0</td>\n",
              "      <td>93.0</td>\n",
              "      <td>90.0</td>\n",
              "      <td>88.0</td>\n",
              "      <td>85.0</td>\n",
              "      <td>98.0</td>\n",
              "      <td>90.0</td>\n",
              "      <td>83.0</td>\n",
              "      <td>84.0</td>\n",
              "      <td>71.0</td>\n",
              "      <td>89.0</td>\n",
              "      <td>90.0</td>\n",
              "      <td>92.0</td>\n",
              "      <td>96.0</td>\n",
              "      <td>96.0</td>\n",
              "      <td>78.0</td>\n",
              "      <td>92.0</td>\n",
              "      <td>89.0</td>\n",
              "      <td>92.0</td>\n",
              "      <td>88.0</td>\n",
              "      <td>81.0</td>\n",
              "      <td>91.0</td>\n",
              "      <td>88.0</td>\n",
              "      <td>74.0</td>\n",
              "      <td>94.0</td>\n",
              "      <td>95.0</td>\n",
              "      <td>86.0</td>\n",
              "      <td>0.0</td>\n",
              "    </tr>\n",
              "    <tr>\n",
              "      <th>1</th>\n",
              "      <td>72.0</td>\n",
              "      <td>81.0</td>\n",
              "      <td>92.0</td>\n",
              "      <td>97.0</td>\n",
              "      <td>87.0</td>\n",
              "      <td>84.0</td>\n",
              "      <td>92.0</td>\n",
              "      <td>90.0</td>\n",
              "      <td>84.0</td>\n",
              "      <td>95.0</td>\n",
              "      <td>85.0</td>\n",
              "      <td>70.0</td>\n",
              "      <td>88.0</td>\n",
              "      <td>92.0</td>\n",
              "      <td>92.0</td>\n",
              "      <td>88.0</td>\n",
              "      <td>86.0</td>\n",
              "      <td>79.0</td>\n",
              "      <td>91.0</td>\n",
              "      <td>86.0</td>\n",
              "      <td>89.0</td>\n",
              "      <td>89.0</td>\n",
              "      <td>82.0</td>\n",
              "      <td>88.0</td>\n",
              "      <td>91.0</td>\n",
              "      <td>97.0</td>\n",
              "      <td>80.0</td>\n",
              "      <td>91.0</td>\n",
              "      <td>84.0</td>\n",
              "      <td>91.0</td>\n",
              "      <td>86.0</td>\n",
              "      <td>89.0</td>\n",
              "      <td>87.0</td>\n",
              "      <td>89.0</td>\n",
              "      <td>75.0</td>\n",
              "      <td>90.0</td>\n",
              "      <td>90.0</td>\n",
              "      <td>84.0</td>\n",
              "      <td>94.0</td>\n",
              "      <td>91.0</td>\n",
              "      <td>...</td>\n",
              "      <td>72.0</td>\n",
              "      <td>79.0</td>\n",
              "      <td>81.0</td>\n",
              "      <td>93.0</td>\n",
              "      <td>83.0</td>\n",
              "      <td>74.0</td>\n",
              "      <td>91.0</td>\n",
              "      <td>85.0</td>\n",
              "      <td>90.0</td>\n",
              "      <td>92.0</td>\n",
              "      <td>97.0</td>\n",
              "      <td>82.0</td>\n",
              "      <td>92.0</td>\n",
              "      <td>90.0</td>\n",
              "      <td>95.0</td>\n",
              "      <td>82.0</td>\n",
              "      <td>85.0</td>\n",
              "      <td>88.0</td>\n",
              "      <td>79.0</td>\n",
              "      <td>97.0</td>\n",
              "      <td>88.0</td>\n",
              "      <td>90.0</td>\n",
              "      <td>86.0</td>\n",
              "      <td>93.0</td>\n",
              "      <td>88.0</td>\n",
              "      <td>89.0</td>\n",
              "      <td>82.0</td>\n",
              "      <td>86.0</td>\n",
              "      <td>89.0</td>\n",
              "      <td>90.0</td>\n",
              "      <td>88.0</td>\n",
              "      <td>95.0</td>\n",
              "      <td>91.0</td>\n",
              "      <td>92.0</td>\n",
              "      <td>92.0</td>\n",
              "      <td>87.0</td>\n",
              "      <td>96.0</td>\n",
              "      <td>94.0</td>\n",
              "      <td>84.0</td>\n",
              "      <td>0.0</td>\n",
              "    </tr>\n",
              "    <tr>\n",
              "      <th>2</th>\n",
              "      <td>86.0</td>\n",
              "      <td>91.0</td>\n",
              "      <td>82.0</td>\n",
              "      <td>94.0</td>\n",
              "      <td>86.0</td>\n",
              "      <td>86.0</td>\n",
              "      <td>85.0</td>\n",
              "      <td>93.0</td>\n",
              "      <td>90.0</td>\n",
              "      <td>87.0</td>\n",
              "      <td>87.0</td>\n",
              "      <td>89.0</td>\n",
              "      <td>91.0</td>\n",
              "      <td>84.0</td>\n",
              "      <td>88.0</td>\n",
              "      <td>90.0</td>\n",
              "      <td>89.0</td>\n",
              "      <td>90.0</td>\n",
              "      <td>87.0</td>\n",
              "      <td>87.0</td>\n",
              "      <td>88.0</td>\n",
              "      <td>95.0</td>\n",
              "      <td>96.0</td>\n",
              "      <td>91.0</td>\n",
              "      <td>96.0</td>\n",
              "      <td>84.0</td>\n",
              "      <td>91.0</td>\n",
              "      <td>90.0</td>\n",
              "      <td>94.0</td>\n",
              "      <td>92.0</td>\n",
              "      <td>88.0</td>\n",
              "      <td>86.0</td>\n",
              "      <td>88.0</td>\n",
              "      <td>89.0</td>\n",
              "      <td>74.0</td>\n",
              "      <td>92.0</td>\n",
              "      <td>98.0</td>\n",
              "      <td>73.0</td>\n",
              "      <td>85.0</td>\n",
              "      <td>91.0</td>\n",
              "      <td>...</td>\n",
              "      <td>82.0</td>\n",
              "      <td>95.0</td>\n",
              "      <td>91.0</td>\n",
              "      <td>89.0</td>\n",
              "      <td>91.0</td>\n",
              "      <td>89.0</td>\n",
              "      <td>77.0</td>\n",
              "      <td>86.0</td>\n",
              "      <td>87.0</td>\n",
              "      <td>89.0</td>\n",
              "      <td>91.0</td>\n",
              "      <td>92.0</td>\n",
              "      <td>88.0</td>\n",
              "      <td>89.0</td>\n",
              "      <td>93.0</td>\n",
              "      <td>85.0</td>\n",
              "      <td>93.0</td>\n",
              "      <td>93.0</td>\n",
              "      <td>87.0</td>\n",
              "      <td>87.0</td>\n",
              "      <td>88.0</td>\n",
              "      <td>86.0</td>\n",
              "      <td>89.0</td>\n",
              "      <td>95.0</td>\n",
              "      <td>88.0</td>\n",
              "      <td>90.0</td>\n",
              "      <td>91.0</td>\n",
              "      <td>96.0</td>\n",
              "      <td>92.0</td>\n",
              "      <td>90.0</td>\n",
              "      <td>95.0</td>\n",
              "      <td>92.0</td>\n",
              "      <td>88.0</td>\n",
              "      <td>92.0</td>\n",
              "      <td>85.0</td>\n",
              "      <td>93.0</td>\n",
              "      <td>82.0</td>\n",
              "      <td>94.0</td>\n",
              "      <td>95.0</td>\n",
              "      <td>0.0</td>\n",
              "    </tr>\n",
              "    <tr>\n",
              "      <th>3</th>\n",
              "      <td>92.0</td>\n",
              "      <td>98.0</td>\n",
              "      <td>72.0</td>\n",
              "      <td>87.0</td>\n",
              "      <td>91.0</td>\n",
              "      <td>84.0</td>\n",
              "      <td>94.0</td>\n",
              "      <td>90.0</td>\n",
              "      <td>91.0</td>\n",
              "      <td>81.0</td>\n",
              "      <td>83.0</td>\n",
              "      <td>81.0</td>\n",
              "      <td>87.0</td>\n",
              "      <td>92.0</td>\n",
              "      <td>91.0</td>\n",
              "      <td>86.0</td>\n",
              "      <td>90.0</td>\n",
              "      <td>97.0</td>\n",
              "      <td>92.0</td>\n",
              "      <td>87.0</td>\n",
              "      <td>92.0</td>\n",
              "      <td>88.0</td>\n",
              "      <td>96.0</td>\n",
              "      <td>84.0</td>\n",
              "      <td>88.0</td>\n",
              "      <td>89.0</td>\n",
              "      <td>71.0</td>\n",
              "      <td>91.0</td>\n",
              "      <td>93.0</td>\n",
              "      <td>94.0</td>\n",
              "      <td>85.0</td>\n",
              "      <td>90.0</td>\n",
              "      <td>92.0</td>\n",
              "      <td>87.0</td>\n",
              "      <td>85.0</td>\n",
              "      <td>82.0</td>\n",
              "      <td>88.0</td>\n",
              "      <td>75.0</td>\n",
              "      <td>88.0</td>\n",
              "      <td>87.0</td>\n",
              "      <td>...</td>\n",
              "      <td>89.0</td>\n",
              "      <td>87.0</td>\n",
              "      <td>78.0</td>\n",
              "      <td>85.0</td>\n",
              "      <td>82.0</td>\n",
              "      <td>94.0</td>\n",
              "      <td>88.0</td>\n",
              "      <td>87.0</td>\n",
              "      <td>92.0</td>\n",
              "      <td>89.0</td>\n",
              "      <td>85.0</td>\n",
              "      <td>91.0</td>\n",
              "      <td>92.0</td>\n",
              "      <td>85.0</td>\n",
              "      <td>87.0</td>\n",
              "      <td>94.0</td>\n",
              "      <td>87.0</td>\n",
              "      <td>85.0</td>\n",
              "      <td>89.0</td>\n",
              "      <td>85.0</td>\n",
              "      <td>90.0</td>\n",
              "      <td>92.0</td>\n",
              "      <td>97.0</td>\n",
              "      <td>90.0</td>\n",
              "      <td>91.0</td>\n",
              "      <td>94.0</td>\n",
              "      <td>91.0</td>\n",
              "      <td>82.0</td>\n",
              "      <td>98.0</td>\n",
              "      <td>88.0</td>\n",
              "      <td>82.0</td>\n",
              "      <td>82.0</td>\n",
              "      <td>91.0</td>\n",
              "      <td>82.0</td>\n",
              "      <td>88.0</td>\n",
              "      <td>81.0</td>\n",
              "      <td>93.0</td>\n",
              "      <td>85.0</td>\n",
              "      <td>94.0</td>\n",
              "      <td>0.0</td>\n",
              "    </tr>\n",
              "    <tr>\n",
              "      <th>4</th>\n",
              "      <td>89.0</td>\n",
              "      <td>91.0</td>\n",
              "      <td>85.0</td>\n",
              "      <td>82.0</td>\n",
              "      <td>84.0</td>\n",
              "      <td>95.0</td>\n",
              "      <td>89.0</td>\n",
              "      <td>80.0</td>\n",
              "      <td>83.0</td>\n",
              "      <td>90.0</td>\n",
              "      <td>86.0</td>\n",
              "      <td>86.0</td>\n",
              "      <td>88.0</td>\n",
              "      <td>88.0</td>\n",
              "      <td>89.0</td>\n",
              "      <td>90.0</td>\n",
              "      <td>89.0</td>\n",
              "      <td>88.0</td>\n",
              "      <td>92.0</td>\n",
              "      <td>87.0</td>\n",
              "      <td>90.0</td>\n",
              "      <td>88.0</td>\n",
              "      <td>91.0</td>\n",
              "      <td>87.0</td>\n",
              "      <td>95.0</td>\n",
              "      <td>90.0</td>\n",
              "      <td>87.0</td>\n",
              "      <td>81.0</td>\n",
              "      <td>96.0</td>\n",
              "      <td>88.0</td>\n",
              "      <td>90.0</td>\n",
              "      <td>90.0</td>\n",
              "      <td>95.0</td>\n",
              "      <td>84.0</td>\n",
              "      <td>87.0</td>\n",
              "      <td>93.0</td>\n",
              "      <td>90.0</td>\n",
              "      <td>86.0</td>\n",
              "      <td>86.0</td>\n",
              "      <td>90.0</td>\n",
              "      <td>...</td>\n",
              "      <td>90.0</td>\n",
              "      <td>84.0</td>\n",
              "      <td>92.0</td>\n",
              "      <td>90.0</td>\n",
              "      <td>85.0</td>\n",
              "      <td>92.0</td>\n",
              "      <td>91.0</td>\n",
              "      <td>91.0</td>\n",
              "      <td>94.0</td>\n",
              "      <td>87.0</td>\n",
              "      <td>92.0</td>\n",
              "      <td>88.0</td>\n",
              "      <td>87.0</td>\n",
              "      <td>92.0</td>\n",
              "      <td>81.0</td>\n",
              "      <td>93.0</td>\n",
              "      <td>92.0</td>\n",
              "      <td>90.0</td>\n",
              "      <td>78.0</td>\n",
              "      <td>85.0</td>\n",
              "      <td>90.0</td>\n",
              "      <td>96.0</td>\n",
              "      <td>94.0</td>\n",
              "      <td>81.0</td>\n",
              "      <td>84.0</td>\n",
              "      <td>84.0</td>\n",
              "      <td>91.0</td>\n",
              "      <td>93.0</td>\n",
              "      <td>86.0</td>\n",
              "      <td>88.0</td>\n",
              "      <td>88.0</td>\n",
              "      <td>90.0</td>\n",
              "      <td>90.0</td>\n",
              "      <td>89.0</td>\n",
              "      <td>79.0</td>\n",
              "      <td>90.0</td>\n",
              "      <td>92.0</td>\n",
              "      <td>89.0</td>\n",
              "      <td>87.0</td>\n",
              "      <td>0.0</td>\n",
              "    </tr>\n",
              "    <tr>\n",
              "      <th>5</th>\n",
              "      <td>85.0</td>\n",
              "      <td>87.0</td>\n",
              "      <td>82.0</td>\n",
              "      <td>92.0</td>\n",
              "      <td>85.0</td>\n",
              "      <td>80.0</td>\n",
              "      <td>90.0</td>\n",
              "      <td>75.0</td>\n",
              "      <td>90.0</td>\n",
              "      <td>92.0</td>\n",
              "      <td>89.0</td>\n",
              "      <td>91.0</td>\n",
              "      <td>73.0</td>\n",
              "      <td>71.0</td>\n",
              "      <td>95.0</td>\n",
              "      <td>92.0</td>\n",
              "      <td>84.0</td>\n",
              "      <td>97.0</td>\n",
              "      <td>86.0</td>\n",
              "      <td>97.0</td>\n",
              "      <td>94.0</td>\n",
              "      <td>85.0</td>\n",
              "      <td>87.0</td>\n",
              "      <td>69.0</td>\n",
              "      <td>82.0</td>\n",
              "      <td>88.0</td>\n",
              "      <td>89.0</td>\n",
              "      <td>86.0</td>\n",
              "      <td>82.0</td>\n",
              "      <td>95.0</td>\n",
              "      <td>90.0</td>\n",
              "      <td>88.0</td>\n",
              "      <td>92.0</td>\n",
              "      <td>92.0</td>\n",
              "      <td>87.0</td>\n",
              "      <td>84.0</td>\n",
              "      <td>94.0</td>\n",
              "      <td>93.0</td>\n",
              "      <td>88.0</td>\n",
              "      <td>85.0</td>\n",
              "      <td>...</td>\n",
              "      <td>79.0</td>\n",
              "      <td>87.0</td>\n",
              "      <td>84.0</td>\n",
              "      <td>92.0</td>\n",
              "      <td>90.0</td>\n",
              "      <td>88.0</td>\n",
              "      <td>93.0</td>\n",
              "      <td>92.0</td>\n",
              "      <td>88.0</td>\n",
              "      <td>89.0</td>\n",
              "      <td>82.0</td>\n",
              "      <td>86.0</td>\n",
              "      <td>91.0</td>\n",
              "      <td>92.0</td>\n",
              "      <td>85.0</td>\n",
              "      <td>87.0</td>\n",
              "      <td>89.0</td>\n",
              "      <td>85.0</td>\n",
              "      <td>90.0</td>\n",
              "      <td>89.0</td>\n",
              "      <td>83.0</td>\n",
              "      <td>83.0</td>\n",
              "      <td>92.0</td>\n",
              "      <td>81.0</td>\n",
              "      <td>97.0</td>\n",
              "      <td>80.0</td>\n",
              "      <td>85.0</td>\n",
              "      <td>95.0</td>\n",
              "      <td>91.0</td>\n",
              "      <td>93.0</td>\n",
              "      <td>89.0</td>\n",
              "      <td>93.0</td>\n",
              "      <td>89.0</td>\n",
              "      <td>85.0</td>\n",
              "      <td>97.0</td>\n",
              "      <td>88.0</td>\n",
              "      <td>96.0</td>\n",
              "      <td>90.0</td>\n",
              "      <td>91.0</td>\n",
              "      <td>0.0</td>\n",
              "    </tr>\n",
              "    <tr>\n",
              "      <th>6</th>\n",
              "      <td>79.0</td>\n",
              "      <td>88.0</td>\n",
              "      <td>70.0</td>\n",
              "      <td>83.0</td>\n",
              "      <td>94.0</td>\n",
              "      <td>85.0</td>\n",
              "      <td>89.0</td>\n",
              "      <td>92.0</td>\n",
              "      <td>98.0</td>\n",
              "      <td>88.0</td>\n",
              "      <td>87.0</td>\n",
              "      <td>87.0</td>\n",
              "      <td>91.0</td>\n",
              "      <td>84.0</td>\n",
              "      <td>90.0</td>\n",
              "      <td>91.0</td>\n",
              "      <td>87.0</td>\n",
              "      <td>90.0</td>\n",
              "      <td>92.0</td>\n",
              "      <td>86.0</td>\n",
              "      <td>86.0</td>\n",
              "      <td>89.0</td>\n",
              "      <td>92.0</td>\n",
              "      <td>88.0</td>\n",
              "      <td>79.0</td>\n",
              "      <td>90.0</td>\n",
              "      <td>88.0</td>\n",
              "      <td>92.0</td>\n",
              "      <td>87.0</td>\n",
              "      <td>89.0</td>\n",
              "      <td>89.0</td>\n",
              "      <td>92.0</td>\n",
              "      <td>90.0</td>\n",
              "      <td>94.0</td>\n",
              "      <td>87.0</td>\n",
              "      <td>85.0</td>\n",
              "      <td>82.0</td>\n",
              "      <td>84.0</td>\n",
              "      <td>91.0</td>\n",
              "      <td>84.0</td>\n",
              "      <td>...</td>\n",
              "      <td>91.0</td>\n",
              "      <td>84.0</td>\n",
              "      <td>87.0</td>\n",
              "      <td>93.0</td>\n",
              "      <td>95.0</td>\n",
              "      <td>88.0</td>\n",
              "      <td>89.0</td>\n",
              "      <td>84.0</td>\n",
              "      <td>84.0</td>\n",
              "      <td>91.0</td>\n",
              "      <td>95.0</td>\n",
              "      <td>88.0</td>\n",
              "      <td>83.0</td>\n",
              "      <td>89.0</td>\n",
              "      <td>83.0</td>\n",
              "      <td>86.0</td>\n",
              "      <td>83.0</td>\n",
              "      <td>88.0</td>\n",
              "      <td>94.0</td>\n",
              "      <td>85.0</td>\n",
              "      <td>92.0</td>\n",
              "      <td>96.0</td>\n",
              "      <td>89.0</td>\n",
              "      <td>85.0</td>\n",
              "      <td>87.0</td>\n",
              "      <td>86.0</td>\n",
              "      <td>86.0</td>\n",
              "      <td>85.0</td>\n",
              "      <td>89.0</td>\n",
              "      <td>93.0</td>\n",
              "      <td>86.0</td>\n",
              "      <td>92.0</td>\n",
              "      <td>87.0</td>\n",
              "      <td>98.0</td>\n",
              "      <td>80.0</td>\n",
              "      <td>84.0</td>\n",
              "      <td>85.0</td>\n",
              "      <td>70.0</td>\n",
              "      <td>83.0</td>\n",
              "      <td>0.0</td>\n",
              "    </tr>\n",
              "    <tr>\n",
              "      <th>7</th>\n",
              "      <td>92.0</td>\n",
              "      <td>88.0</td>\n",
              "      <td>98.0</td>\n",
              "      <td>82.0</td>\n",
              "      <td>92.0</td>\n",
              "      <td>71.0</td>\n",
              "      <td>90.0</td>\n",
              "      <td>81.0</td>\n",
              "      <td>91.0</td>\n",
              "      <td>87.0</td>\n",
              "      <td>87.0</td>\n",
              "      <td>89.0</td>\n",
              "      <td>89.0</td>\n",
              "      <td>92.0</td>\n",
              "      <td>90.0</td>\n",
              "      <td>85.0</td>\n",
              "      <td>83.0</td>\n",
              "      <td>84.0</td>\n",
              "      <td>89.0</td>\n",
              "      <td>86.0</td>\n",
              "      <td>86.0</td>\n",
              "      <td>91.0</td>\n",
              "      <td>84.0</td>\n",
              "      <td>91.0</td>\n",
              "      <td>84.0</td>\n",
              "      <td>88.0</td>\n",
              "      <td>85.0</td>\n",
              "      <td>90.0</td>\n",
              "      <td>89.0</td>\n",
              "      <td>84.0</td>\n",
              "      <td>86.0</td>\n",
              "      <td>93.0</td>\n",
              "      <td>97.0</td>\n",
              "      <td>77.0</td>\n",
              "      <td>86.0</td>\n",
              "      <td>86.0</td>\n",
              "      <td>88.0</td>\n",
              "      <td>79.0</td>\n",
              "      <td>87.0</td>\n",
              "      <td>95.0</td>\n",
              "      <td>...</td>\n",
              "      <td>91.0</td>\n",
              "      <td>86.0</td>\n",
              "      <td>85.0</td>\n",
              "      <td>84.0</td>\n",
              "      <td>95.0</td>\n",
              "      <td>92.0</td>\n",
              "      <td>87.0</td>\n",
              "      <td>93.0</td>\n",
              "      <td>77.0</td>\n",
              "      <td>89.0</td>\n",
              "      <td>89.0</td>\n",
              "      <td>93.0</td>\n",
              "      <td>96.0</td>\n",
              "      <td>92.0</td>\n",
              "      <td>72.0</td>\n",
              "      <td>89.0</td>\n",
              "      <td>89.0</td>\n",
              "      <td>88.0</td>\n",
              "      <td>90.0</td>\n",
              "      <td>90.0</td>\n",
              "      <td>92.0</td>\n",
              "      <td>90.0</td>\n",
              "      <td>92.0</td>\n",
              "      <td>92.0</td>\n",
              "      <td>88.0</td>\n",
              "      <td>92.0</td>\n",
              "      <td>80.0</td>\n",
              "      <td>94.0</td>\n",
              "      <td>80.0</td>\n",
              "      <td>92.0</td>\n",
              "      <td>88.0</td>\n",
              "      <td>87.0</td>\n",
              "      <td>88.0</td>\n",
              "      <td>94.0</td>\n",
              "      <td>79.0</td>\n",
              "      <td>92.0</td>\n",
              "      <td>90.0</td>\n",
              "      <td>90.0</td>\n",
              "      <td>86.0</td>\n",
              "      <td>0.0</td>\n",
              "    </tr>\n",
              "    <tr>\n",
              "      <th>8</th>\n",
              "      <td>90.0</td>\n",
              "      <td>82.0</td>\n",
              "      <td>95.0</td>\n",
              "      <td>87.0</td>\n",
              "      <td>86.0</td>\n",
              "      <td>86.0</td>\n",
              "      <td>90.0</td>\n",
              "      <td>91.0</td>\n",
              "      <td>84.0</td>\n",
              "      <td>76.0</td>\n",
              "      <td>91.0</td>\n",
              "      <td>87.0</td>\n",
              "      <td>76.0</td>\n",
              "      <td>94.0</td>\n",
              "      <td>80.0</td>\n",
              "      <td>92.0</td>\n",
              "      <td>91.0</td>\n",
              "      <td>83.0</td>\n",
              "      <td>87.0</td>\n",
              "      <td>94.0</td>\n",
              "      <td>92.0</td>\n",
              "      <td>95.0</td>\n",
              "      <td>85.0</td>\n",
              "      <td>91.0</td>\n",
              "      <td>95.0</td>\n",
              "      <td>87.0</td>\n",
              "      <td>87.0</td>\n",
              "      <td>87.0</td>\n",
              "      <td>96.0</td>\n",
              "      <td>89.0</td>\n",
              "      <td>84.0</td>\n",
              "      <td>83.0</td>\n",
              "      <td>84.0</td>\n",
              "      <td>88.0</td>\n",
              "      <td>88.0</td>\n",
              "      <td>92.0</td>\n",
              "      <td>89.0</td>\n",
              "      <td>82.0</td>\n",
              "      <td>84.0</td>\n",
              "      <td>87.0</td>\n",
              "      <td>...</td>\n",
              "      <td>86.0</td>\n",
              "      <td>93.0</td>\n",
              "      <td>90.0</td>\n",
              "      <td>95.0</td>\n",
              "      <td>89.0</td>\n",
              "      <td>92.0</td>\n",
              "      <td>91.0</td>\n",
              "      <td>89.0</td>\n",
              "      <td>91.0</td>\n",
              "      <td>94.0</td>\n",
              "      <td>87.0</td>\n",
              "      <td>84.0</td>\n",
              "      <td>89.0</td>\n",
              "      <td>83.0</td>\n",
              "      <td>84.0</td>\n",
              "      <td>87.0</td>\n",
              "      <td>85.0</td>\n",
              "      <td>90.0</td>\n",
              "      <td>85.0</td>\n",
              "      <td>89.0</td>\n",
              "      <td>84.0</td>\n",
              "      <td>96.0</td>\n",
              "      <td>87.0</td>\n",
              "      <td>91.0</td>\n",
              "      <td>91.0</td>\n",
              "      <td>93.0</td>\n",
              "      <td>75.0</td>\n",
              "      <td>84.0</td>\n",
              "      <td>81.0</td>\n",
              "      <td>89.0</td>\n",
              "      <td>89.0</td>\n",
              "      <td>90.0</td>\n",
              "      <td>85.0</td>\n",
              "      <td>92.0</td>\n",
              "      <td>89.0</td>\n",
              "      <td>80.0</td>\n",
              "      <td>88.0</td>\n",
              "      <td>90.0</td>\n",
              "      <td>96.0</td>\n",
              "      <td>0.0</td>\n",
              "    </tr>\n",
              "    <tr>\n",
              "      <th>9</th>\n",
              "      <td>90.0</td>\n",
              "      <td>98.0</td>\n",
              "      <td>90.0</td>\n",
              "      <td>86.0</td>\n",
              "      <td>84.0</td>\n",
              "      <td>90.0</td>\n",
              "      <td>85.0</td>\n",
              "      <td>89.0</td>\n",
              "      <td>93.0</td>\n",
              "      <td>94.0</td>\n",
              "      <td>88.0</td>\n",
              "      <td>89.0</td>\n",
              "      <td>94.0</td>\n",
              "      <td>90.0</td>\n",
              "      <td>96.0</td>\n",
              "      <td>84.0</td>\n",
              "      <td>73.0</td>\n",
              "      <td>88.0</td>\n",
              "      <td>92.0</td>\n",
              "      <td>87.0</td>\n",
              "      <td>94.0</td>\n",
              "      <td>82.0</td>\n",
              "      <td>86.0</td>\n",
              "      <td>88.0</td>\n",
              "      <td>84.0</td>\n",
              "      <td>81.0</td>\n",
              "      <td>84.0</td>\n",
              "      <td>87.0</td>\n",
              "      <td>78.0</td>\n",
              "      <td>92.0</td>\n",
              "      <td>85.0</td>\n",
              "      <td>82.0</td>\n",
              "      <td>98.0</td>\n",
              "      <td>91.0</td>\n",
              "      <td>91.0</td>\n",
              "      <td>85.0</td>\n",
              "      <td>82.0</td>\n",
              "      <td>90.0</td>\n",
              "      <td>91.0</td>\n",
              "      <td>97.0</td>\n",
              "      <td>...</td>\n",
              "      <td>81.0</td>\n",
              "      <td>81.0</td>\n",
              "      <td>69.0</td>\n",
              "      <td>89.0</td>\n",
              "      <td>88.0</td>\n",
              "      <td>90.0</td>\n",
              "      <td>91.0</td>\n",
              "      <td>92.0</td>\n",
              "      <td>94.0</td>\n",
              "      <td>93.0</td>\n",
              "      <td>92.0</td>\n",
              "      <td>96.0</td>\n",
              "      <td>94.0</td>\n",
              "      <td>80.0</td>\n",
              "      <td>88.0</td>\n",
              "      <td>78.0</td>\n",
              "      <td>89.0</td>\n",
              "      <td>92.0</td>\n",
              "      <td>83.0</td>\n",
              "      <td>88.0</td>\n",
              "      <td>90.0</td>\n",
              "      <td>87.0</td>\n",
              "      <td>87.0</td>\n",
              "      <td>81.0</td>\n",
              "      <td>87.0</td>\n",
              "      <td>87.0</td>\n",
              "      <td>92.0</td>\n",
              "      <td>94.0</td>\n",
              "      <td>92.0</td>\n",
              "      <td>90.0</td>\n",
              "      <td>83.0</td>\n",
              "      <td>85.0</td>\n",
              "      <td>85.0</td>\n",
              "      <td>87.0</td>\n",
              "      <td>89.0</td>\n",
              "      <td>83.0</td>\n",
              "      <td>87.0</td>\n",
              "      <td>97.0</td>\n",
              "      <td>79.0</td>\n",
              "      <td>0.0</td>\n",
              "    </tr>\n",
              "    <tr>\n",
              "      <th>10</th>\n",
              "      <td>94.0</td>\n",
              "      <td>85.0</td>\n",
              "      <td>92.0</td>\n",
              "      <td>89.0</td>\n",
              "      <td>89.0</td>\n",
              "      <td>93.0</td>\n",
              "      <td>85.0</td>\n",
              "      <td>90.0</td>\n",
              "      <td>69.0</td>\n",
              "      <td>86.0</td>\n",
              "      <td>95.0</td>\n",
              "      <td>87.0</td>\n",
              "      <td>86.0</td>\n",
              "      <td>93.0</td>\n",
              "      <td>83.0</td>\n",
              "      <td>89.0</td>\n",
              "      <td>93.0</td>\n",
              "      <td>94.0</td>\n",
              "      <td>86.0</td>\n",
              "      <td>92.0</td>\n",
              "      <td>90.0</td>\n",
              "      <td>77.0</td>\n",
              "      <td>85.0</td>\n",
              "      <td>84.0</td>\n",
              "      <td>84.0</td>\n",
              "      <td>82.0</td>\n",
              "      <td>85.0</td>\n",
              "      <td>85.0</td>\n",
              "      <td>87.0</td>\n",
              "      <td>89.0</td>\n",
              "      <td>87.0</td>\n",
              "      <td>96.0</td>\n",
              "      <td>95.0</td>\n",
              "      <td>88.0</td>\n",
              "      <td>82.0</td>\n",
              "      <td>94.0</td>\n",
              "      <td>87.0</td>\n",
              "      <td>89.0</td>\n",
              "      <td>89.0</td>\n",
              "      <td>84.0</td>\n",
              "      <td>...</td>\n",
              "      <td>74.0</td>\n",
              "      <td>91.0</td>\n",
              "      <td>95.0</td>\n",
              "      <td>91.0</td>\n",
              "      <td>90.0</td>\n",
              "      <td>87.0</td>\n",
              "      <td>89.0</td>\n",
              "      <td>89.0</td>\n",
              "      <td>88.0</td>\n",
              "      <td>89.0</td>\n",
              "      <td>90.0</td>\n",
              "      <td>90.0</td>\n",
              "      <td>89.0</td>\n",
              "      <td>88.0</td>\n",
              "      <td>91.0</td>\n",
              "      <td>85.0</td>\n",
              "      <td>86.0</td>\n",
              "      <td>93.0</td>\n",
              "      <td>95.0</td>\n",
              "      <td>92.0</td>\n",
              "      <td>93.0</td>\n",
              "      <td>90.0</td>\n",
              "      <td>92.0</td>\n",
              "      <td>97.0</td>\n",
              "      <td>93.0</td>\n",
              "      <td>93.0</td>\n",
              "      <td>82.0</td>\n",
              "      <td>89.0</td>\n",
              "      <td>92.0</td>\n",
              "      <td>93.0</td>\n",
              "      <td>91.0</td>\n",
              "      <td>69.0</td>\n",
              "      <td>89.0</td>\n",
              "      <td>95.0</td>\n",
              "      <td>89.0</td>\n",
              "      <td>93.0</td>\n",
              "      <td>86.0</td>\n",
              "      <td>91.0</td>\n",
              "      <td>88.0</td>\n",
              "      <td>0.0</td>\n",
              "    </tr>\n",
              "    <tr>\n",
              "      <th>11</th>\n",
              "      <td>84.0</td>\n",
              "      <td>87.0</td>\n",
              "      <td>87.0</td>\n",
              "      <td>96.0</td>\n",
              "      <td>91.0</td>\n",
              "      <td>88.0</td>\n",
              "      <td>97.0</td>\n",
              "      <td>77.0</td>\n",
              "      <td>90.0</td>\n",
              "      <td>95.0</td>\n",
              "      <td>91.0</td>\n",
              "      <td>93.0</td>\n",
              "      <td>82.0</td>\n",
              "      <td>95.0</td>\n",
              "      <td>92.0</td>\n",
              "      <td>87.0</td>\n",
              "      <td>96.0</td>\n",
              "      <td>87.0</td>\n",
              "      <td>87.0</td>\n",
              "      <td>89.0</td>\n",
              "      <td>97.0</td>\n",
              "      <td>88.0</td>\n",
              "      <td>90.0</td>\n",
              "      <td>87.0</td>\n",
              "      <td>83.0</td>\n",
              "      <td>87.0</td>\n",
              "      <td>70.0</td>\n",
              "      <td>90.0</td>\n",
              "      <td>91.0</td>\n",
              "      <td>86.0</td>\n",
              "      <td>96.0</td>\n",
              "      <td>95.0</td>\n",
              "      <td>75.0</td>\n",
              "      <td>84.0</td>\n",
              "      <td>91.0</td>\n",
              "      <td>81.0</td>\n",
              "      <td>81.0</td>\n",
              "      <td>96.0</td>\n",
              "      <td>94.0</td>\n",
              "      <td>87.0</td>\n",
              "      <td>...</td>\n",
              "      <td>93.0</td>\n",
              "      <td>96.0</td>\n",
              "      <td>90.0</td>\n",
              "      <td>93.0</td>\n",
              "      <td>89.0</td>\n",
              "      <td>83.0</td>\n",
              "      <td>89.0</td>\n",
              "      <td>89.0</td>\n",
              "      <td>84.0</td>\n",
              "      <td>94.0</td>\n",
              "      <td>89.0</td>\n",
              "      <td>74.0</td>\n",
              "      <td>83.0</td>\n",
              "      <td>92.0</td>\n",
              "      <td>88.0</td>\n",
              "      <td>88.0</td>\n",
              "      <td>94.0</td>\n",
              "      <td>84.0</td>\n",
              "      <td>85.0</td>\n",
              "      <td>89.0</td>\n",
              "      <td>94.0</td>\n",
              "      <td>89.0</td>\n",
              "      <td>86.0</td>\n",
              "      <td>87.0</td>\n",
              "      <td>93.0</td>\n",
              "      <td>93.0</td>\n",
              "      <td>89.0</td>\n",
              "      <td>84.0</td>\n",
              "      <td>91.0</td>\n",
              "      <td>83.0</td>\n",
              "      <td>69.0</td>\n",
              "      <td>87.0</td>\n",
              "      <td>86.0</td>\n",
              "      <td>95.0</td>\n",
              "      <td>83.0</td>\n",
              "      <td>85.0</td>\n",
              "      <td>88.0</td>\n",
              "      <td>90.0</td>\n",
              "      <td>95.0</td>\n",
              "      <td>0.0</td>\n",
              "    </tr>\n",
              "    <tr>\n",
              "      <th>12</th>\n",
              "      <td>89.0</td>\n",
              "      <td>81.0</td>\n",
              "      <td>85.0</td>\n",
              "      <td>87.0</td>\n",
              "      <td>75.0</td>\n",
              "      <td>91.0</td>\n",
              "      <td>85.0</td>\n",
              "      <td>94.0</td>\n",
              "      <td>89.0</td>\n",
              "      <td>95.0</td>\n",
              "      <td>83.0</td>\n",
              "      <td>95.0</td>\n",
              "      <td>97.0</td>\n",
              "      <td>94.0</td>\n",
              "      <td>89.0</td>\n",
              "      <td>89.0</td>\n",
              "      <td>97.0</td>\n",
              "      <td>91.0</td>\n",
              "      <td>88.0</td>\n",
              "      <td>87.0</td>\n",
              "      <td>86.0</td>\n",
              "      <td>90.0</td>\n",
              "      <td>90.0</td>\n",
              "      <td>92.0</td>\n",
              "      <td>95.0</td>\n",
              "      <td>94.0</td>\n",
              "      <td>97.0</td>\n",
              "      <td>87.0</td>\n",
              "      <td>93.0</td>\n",
              "      <td>95.0</td>\n",
              "      <td>90.0</td>\n",
              "      <td>94.0</td>\n",
              "      <td>90.0</td>\n",
              "      <td>87.0</td>\n",
              "      <td>80.0</td>\n",
              "      <td>87.0</td>\n",
              "      <td>92.0</td>\n",
              "      <td>77.0</td>\n",
              "      <td>89.0</td>\n",
              "      <td>76.0</td>\n",
              "      <td>...</td>\n",
              "      <td>88.0</td>\n",
              "      <td>89.0</td>\n",
              "      <td>85.0</td>\n",
              "      <td>86.0</td>\n",
              "      <td>91.0</td>\n",
              "      <td>75.0</td>\n",
              "      <td>84.0</td>\n",
              "      <td>95.0</td>\n",
              "      <td>85.0</td>\n",
              "      <td>91.0</td>\n",
              "      <td>88.0</td>\n",
              "      <td>84.0</td>\n",
              "      <td>83.0</td>\n",
              "      <td>79.0</td>\n",
              "      <td>89.0</td>\n",
              "      <td>92.0</td>\n",
              "      <td>87.0</td>\n",
              "      <td>89.0</td>\n",
              "      <td>81.0</td>\n",
              "      <td>88.0</td>\n",
              "      <td>91.0</td>\n",
              "      <td>83.0</td>\n",
              "      <td>90.0</td>\n",
              "      <td>95.0</td>\n",
              "      <td>94.0</td>\n",
              "      <td>86.0</td>\n",
              "      <td>92.0</td>\n",
              "      <td>80.0</td>\n",
              "      <td>83.0</td>\n",
              "      <td>91.0</td>\n",
              "      <td>90.0</td>\n",
              "      <td>97.0</td>\n",
              "      <td>90.0</td>\n",
              "      <td>87.0</td>\n",
              "      <td>87.0</td>\n",
              "      <td>88.0</td>\n",
              "      <td>84.0</td>\n",
              "      <td>90.0</td>\n",
              "      <td>91.0</td>\n",
              "      <td>0.0</td>\n",
              "    </tr>\n",
              "    <tr>\n",
              "      <th>13</th>\n",
              "      <td>79.0</td>\n",
              "      <td>95.0</td>\n",
              "      <td>91.0</td>\n",
              "      <td>89.0</td>\n",
              "      <td>88.0</td>\n",
              "      <td>90.0</td>\n",
              "      <td>92.0</td>\n",
              "      <td>87.0</td>\n",
              "      <td>70.0</td>\n",
              "      <td>93.0</td>\n",
              "      <td>85.0</td>\n",
              "      <td>90.0</td>\n",
              "      <td>92.0</td>\n",
              "      <td>90.0</td>\n",
              "      <td>86.0</td>\n",
              "      <td>90.0</td>\n",
              "      <td>94.0</td>\n",
              "      <td>83.0</td>\n",
              "      <td>85.0</td>\n",
              "      <td>80.0</td>\n",
              "      <td>91.0</td>\n",
              "      <td>91.0</td>\n",
              "      <td>87.0</td>\n",
              "      <td>91.0</td>\n",
              "      <td>87.0</td>\n",
              "      <td>84.0</td>\n",
              "      <td>92.0</td>\n",
              "      <td>90.0</td>\n",
              "      <td>85.0</td>\n",
              "      <td>77.0</td>\n",
              "      <td>88.0</td>\n",
              "      <td>85.0</td>\n",
              "      <td>94.0</td>\n",
              "      <td>69.0</td>\n",
              "      <td>87.0</td>\n",
              "      <td>83.0</td>\n",
              "      <td>86.0</td>\n",
              "      <td>90.0</td>\n",
              "      <td>94.0</td>\n",
              "      <td>96.0</td>\n",
              "      <td>...</td>\n",
              "      <td>94.0</td>\n",
              "      <td>74.0</td>\n",
              "      <td>87.0</td>\n",
              "      <td>86.0</td>\n",
              "      <td>85.0</td>\n",
              "      <td>98.0</td>\n",
              "      <td>93.0</td>\n",
              "      <td>89.0</td>\n",
              "      <td>91.0</td>\n",
              "      <td>90.0</td>\n",
              "      <td>92.0</td>\n",
              "      <td>90.0</td>\n",
              "      <td>73.0</td>\n",
              "      <td>88.0</td>\n",
              "      <td>92.0</td>\n",
              "      <td>90.0</td>\n",
              "      <td>92.0</td>\n",
              "      <td>82.0</td>\n",
              "      <td>89.0</td>\n",
              "      <td>93.0</td>\n",
              "      <td>93.0</td>\n",
              "      <td>87.0</td>\n",
              "      <td>90.0</td>\n",
              "      <td>90.0</td>\n",
              "      <td>88.0</td>\n",
              "      <td>83.0</td>\n",
              "      <td>88.0</td>\n",
              "      <td>91.0</td>\n",
              "      <td>89.0</td>\n",
              "      <td>80.0</td>\n",
              "      <td>96.0</td>\n",
              "      <td>87.0</td>\n",
              "      <td>92.0</td>\n",
              "      <td>91.0</td>\n",
              "      <td>85.0</td>\n",
              "      <td>95.0</td>\n",
              "      <td>97.0</td>\n",
              "      <td>87.0</td>\n",
              "      <td>91.0</td>\n",
              "      <td>0.0</td>\n",
              "    </tr>\n",
              "  </tbody>\n",
              "</table>\n",
              "<p>14 rows × 601 columns</p>\n",
              "</div>"
            ],
            "text/plain": [
              "    8.900000000000000000e+01  ...  0.000000000000000000e+00\n",
              "0                       94.0  ...                       0.0\n",
              "1                       72.0  ...                       0.0\n",
              "2                       86.0  ...                       0.0\n",
              "3                       92.0  ...                       0.0\n",
              "4                       89.0  ...                       0.0\n",
              "5                       85.0  ...                       0.0\n",
              "6                       79.0  ...                       0.0\n",
              "7                       92.0  ...                       0.0\n",
              "8                       90.0  ...                       0.0\n",
              "9                       90.0  ...                       0.0\n",
              "10                      94.0  ...                       0.0\n",
              "11                      84.0  ...                       0.0\n",
              "12                      89.0  ...                       0.0\n",
              "13                      79.0  ...                       0.0\n",
              "\n",
              "[14 rows x 601 columns]"
            ]
          },
          "metadata": {
            "tags": []
          },
          "execution_count": 271
        }
      ]
    },
    {
      "cell_type": "code",
      "metadata": {
        "id": "vGfrnodpmU5x"
      },
      "source": [
        "for i in op:\n",
        "  if i > 100:\n",
        "    print(i)"
      ],
      "execution_count": null,
      "outputs": []
    },
    {
      "cell_type": "code",
      "metadata": {
        "colab": {
          "base_uri": "https://localhost:8080/",
          "height": 163
        },
        "id": "QTC7g2rvetmF",
        "outputId": "900cb5fc-559c-420a-aee2-bd9c38541806"
      },
      "source": [
        "S.append(data)"
      ],
      "execution_count": null,
      "outputs": [
        {
          "output_type": "error",
          "ename": "NameError",
          "evalue": "ignored",
          "traceback": [
            "\u001b[0;31m---------------------------------------------------------------------------\u001b[0m",
            "\u001b[0;31mNameError\u001b[0m                                 Traceback (most recent call last)",
            "\u001b[0;32m<ipython-input-116-c53fe60420d8>\u001b[0m in \u001b[0;36m<module>\u001b[0;34m()\u001b[0m\n\u001b[0;32m----> 1\u001b[0;31m \u001b[0mSupreme\u001b[0m\u001b[0;34m.\u001b[0m\u001b[0mappend\u001b[0m\u001b[0;34m(\u001b[0m\u001b[0mdata\u001b[0m\u001b[0;34m)\u001b[0m\u001b[0;34m\u001b[0m\u001b[0;34m\u001b[0m\u001b[0m\n\u001b[0m",
            "\u001b[0;31mNameError\u001b[0m: name 'Supreme' is not defined"
          ]
        }
      ]
    },
    {
      "cell_type": "code",
      "metadata": {
        "id": "p7-4l5tGmUAU"
      },
      "source": [
        ""
      ],
      "execution_count": null,
      "outputs": []
    }
  ]
}